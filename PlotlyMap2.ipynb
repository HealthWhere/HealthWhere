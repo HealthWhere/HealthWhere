{
 "cells": [
  {
   "cell_type": "code",
   "execution_count": null,
   "metadata": {
    "id": "D36r3MxNgFQm"
   },
   "outputs": [],
   "source": [
    "#Import lib\n",
    "import pandas as pd\n",
    "import numpy as np\n",
    "import plotly.express as px\n",
    "import geopandas as gpd\n",
    "import folium\n",
    "import matplotlib.pyplot as plt"
   ]
  },
  {
   "cell_type": "markdown",
   "metadata": {
    "id": "oygdNbjqFoDJ"
   },
   "source": [
    "# Open Database of Healthcare Facilities\n",
    "Data source: https://ressouces-fr-covid19canada.hub.arcgis.com/datasets/exchange::open-database-of-healthcare-facilities/about"
   ]
  },
  {
   "cell_type": "code",
   "execution_count": null,
   "metadata": {
    "id": "V_Dpf-7kaKCT"
   },
   "outputs": [],
   "source": [
    "import zipfile\n",
    "\n",
    "zip_ref = zipfile.ZipFile(\"C:/Users/kimng/Desktop/AI4Good Project/Open_Database_of_Healthcare_Facilities.zip\", 'r')\n",
    "zip_ref.extractall(\"C:/Users/kimng/Desktop/AI4Good Project/Unzip files\")\n",
    "zip_ref.close()\n",
    "\n",
    "zip_ref = zipfile.ZipFile(\"C:/Users/kimng/Desktop/AI4Good Project/Health_Region_Summaries.zip\", 'r')\n",
    "zip_ref.extractall(\"C:/Users/kimng/Desktop/AI4Good Project/Unzip files\")\n",
    "zip_ref.close()"
   ]
  },
  {
   "cell_type": "code",
   "execution_count": null,
   "metadata": {
    "id": "opfJaw6IbHQW"
   },
   "outputs": [],
   "source": [
    "import geopandas as gpd\n",
    "\n",
    "# path to shapefile\n",
    "filepath = \"C:/Users/kimng/Desktop/AI4Good Project/Unzip files/Open_Database_of_Healthcare_Facilities.shp\"\n",
    "\n",
    "# Read file using gpd.read_file()\n",
    "map1 = gpd.read_file(filepath, encoding=\"utf-8\")"
   ]
  },
  {
   "cell_type": "code",
   "execution_count": null,
   "metadata": {
    "colab": {
     "base_uri": "https://localhost:8080/",
     "height": 458
    },
    "id": "f3EmYzXydGvm",
    "outputId": "21d9ff1c-12ae-4894-b90d-ded17e8d7f23"
   },
   "outputs": [],
   "source": [
    "map1.head() #look at top entries - looks like a pandas dataframe\n"
   ]
  },
  {
   "cell_type": "code",
   "execution_count": null,
   "metadata": {
    "id": "4gZpB3Lqwnyp"
   },
   "outputs": [],
   "source": [
    "map1.loc[map1['odhf_facil'] == \"nursing and residential care facilities\", 'odhf_facil'] = 'Nursing and residential care facilities' # correcting the category"
   ]
  },
  {
   "cell_type": "code",
   "execution_count": null,
   "metadata": {
    "id": "jxgzwokjzN0i"
   },
   "outputs": [],
   "source": [
    "#For simplicity, the rows with missing odhf_facil will be excluded from the map\n",
    "\n",
    "map1 = map1.dropna(subset=['odhf_facil'])"
   ]
  },
  {
   "cell_type": "code",
   "execution_count": null,
   "metadata": {
    "colab": {
     "base_uri": "https://localhost:8080/",
     "height": 542
    },
    "id": "sj3gtiBFdgr3",
    "outputId": "a9b9e108-400f-4cf7-e4d1-25ba88f39ab0"
   },
   "outputs": [],
   "source": [
    "import pandas as pd\n",
    "import plotly.express as px\n",
    "\n",
    "fig = px.scatter_mapbox(map1, lat=\"latitude\", lon=\"longitude\", hover_name=\"Name\",\n",
    "                        color = 'odhf_facil', animation_group = 'Name')\n",
    "fig.update_layout(mapbox_style=\"open-street-map\")\n",
    "fig.show()"
   ]
  },
  {
   "cell_type": "code",
   "execution_count": null,
   "metadata": {
    "id": "XD8KrMsJ09mL"
   },
   "outputs": [],
   "source": [
    "#Get the health region boundaries\n",
    "\n",
    "import json\n",
    "# Opening JSON file\n",
    "f = open('C:/Users/kimng/Desktop/AI4Good Project/Unzip files/Health_Region_Summaries.geojson')\n",
    "  \n",
    "# this code returns JSON object as a dictionary\n",
    "HRmap = json.load(f)\n",
    "\n",
    "# extract features\n",
    "for feature in HRmap['features']:\n",
    "      feature['id'] = feature['properties']\n",
    "\n"
   ]
  },
  {
   "cell_type": "code",
   "execution_count": null,
   "metadata": {
    "colab": {
     "base_uri": "https://localhost:8080/",
     "height": 542
    },
    "id": "ZXJPpcv68xWQ",
    "outputId": "d51622ef-edf6-4b83-ce88-9ec92a45b8f8"
   },
   "outputs": [],
   "source": [
    "#remaping the hospital facilities with health region layout\n",
    "\n",
    "fig = px.scatter_mapbox(map1, lat=\"latitude\", lon=\"longitude\", hover_name=\"Name\",\n",
    "                        hover_data = [\"source_fac\", \"provider\", \"CSDname\", \"Prov\"], \n",
    "                        color = 'odhf_facil', #which column to set the color of markers\n",
    "                        animation_group = 'Name') #animate data points\n",
    "#fig.update_layout(mapbox_style=\"open-street-map\")\n",
    "fig.update_layout(\n",
    "    mapbox={\n",
    "        \"style\": \"carto-positron\",\n",
    "        \"zoom\": 3.5,\n",
    "        \"layers\": [\n",
    "            {\n",
    "                \"source\": HRmap, #use the health region GEOJson for map layer\n",
    "                \"type\": \"line\",\n",
    "                \"color\": \"grey\",\n",
    "                \"line\": {\"width\": 1},\n",
    "            }\n",
    "        ],\n",
    "    }\n",
    ")\n",
    "fig.show()"
   ]
  },
  {
   "cell_type": "markdown",
   "metadata": {
    "id": "cain3MJPQ8Xq"
   },
   "source": [
    "# Get Health Regions (1)\n",
    "\n",
    "Due to inconsistencies between the health regions (HR) in our hospital bed availability and the HR in the shape files, we will extract the polygons of AB, BC, NW, YT, NU, PE, and NS from the Health_Region_Summaries.zip\n",
    "\n",
    "Data source: https://resources-covid19canada.hub.arcgis.com/datasets/covid19canada::health-region-summaries/about "
   ]
  },
  {
   "cell_type": "code",
   "execution_count": null,
   "metadata": {
    "id": "1utuRFZpgDzh"
   },
   "outputs": [],
   "source": [
    "# path to shapefile\n",
    "filepath = \"C:/Users/kimng/Desktop/AI4Good Project/Unzip files/NewHybridRegionalHeathBoundaries.shp\"\n",
    "\n",
    "# Read file using gpd.read_file()\n",
    "map_HR = gpd.read_file(filepath, encoding=\"utf-8\")"
   ]
  },
  {
   "cell_type": "code",
   "execution_count": null,
   "metadata": {
    "colab": {
     "base_uri": "https://localhost:8080/",
     "height": 1000
    },
    "id": "ibTbroU3VCkQ",
    "outputId": "bdb545a9-f433-48cb-91e6-567358a93c88"
   },
   "outputs": [],
   "source": [
    "map_filtered1 = map_HR.query(\"Province=='AB' | Province=='BC'| Province=='PE'| Province=='YT' | Province=='NT'| Province=='NU'| Province=='MB' \")"
   ]
  },
  {
   "cell_type": "code",
   "execution_count": null,
   "metadata": {
    "id": "0gN21WxkXhCS"
   },
   "outputs": [],
   "source": [
    "# use this code to reset crs\n",
    "map_filtered1 = map_filtered1.to_crs('ESRI:102009')"
   ]
  },
  {
   "cell_type": "markdown",
   "metadata": {
    "id": "8yzMNxZAMBw4"
   },
   "source": [
    "# Get Health Region (2)\n",
    "\n",
    "We will extract the polygons of NS, NB, SK, NL, QC, ON, MB from the canada-eng.zip\n",
    "\n",
    "Data source: https://www150.statcan.gc.ca/n1/pub/82-402-x/2009001/rg-eng.htm#arcinfo\n",
    "\n",
    "More info about health regions: https://www150.statcan.gc.ca/n1/pub/82-402-x/2018001/hrpg-rsgh-eng.htm\n"
   ]
  },
  {
   "cell_type": "code",
   "execution_count": null,
   "metadata": {
    "id": "RdcvwyifMBRb"
   },
   "outputs": [],
   "source": [
    "import zipfile\n",
    "zip_ref = zipfile.ZipFile(\"C:/Users/kimng/Desktop/AI4Good Project/canada-eng.zip\", 'r')\n",
    "zip_ref.extractall(\"C:/Users/kimng/Desktop/AI4Good Project/Unzip Files\")\n",
    "zip_ref.close()"
   ]
  },
  {
   "cell_type": "code",
   "execution_count": null,
   "metadata": {
    "colab": {
     "base_uri": "https://localhost:8080/",
     "height": 206
    },
    "id": "gkfY8BhXOXb0",
    "outputId": "6a4cda14-ae7f-4b72-b9de-365e6fa98794"
   },
   "outputs": [],
   "source": [
    "#Nova Scotia\n",
    "\n",
    "zip_ref = zipfile.ZipFile(\"C:/Users/kimng/Desktop/AI4Good Project/Unzip Files/HR012b08z.zip\", 'r')\n",
    "zip_ref.extractall(\"C:/Users/kimng/Desktop/AI4Good Project/Unzip Files/HR012b08z\")\n",
    "zip_ref.close()\n",
    "\n",
    "filepath_NS = \"C:/Users/kimng/Desktop/AI4Good Project/Unzip Files/HR012b08z/HR012b08z.shp\" \n",
    "map_NS = gpd.read_file(filepath_NS, encoding=\"utf-8\")\n"
   ]
  },
  {
   "cell_type": "code",
   "execution_count": null,
   "metadata": {
    "colab": {
     "base_uri": "https://localhost:8080/",
     "height": 269
    },
    "id": "Rj4LveMXQtb2",
    "outputId": "8f7ca383-b133-412b-a312-c797ac6efbe7"
   },
   "outputs": [],
   "source": [
    "#New Brunswick\n",
    "zip_ref = zipfile.ZipFile(\"C:/Users/kimng/Desktop/AI4Good Project/Unzip Files/HR013b08.zip\", 'r')\n",
    "zip_ref.extractall(\"C:/Users/kimng/Desktop/AI4Good Project/Unzip Files/HR013b08\")\n",
    "zip_ref.close()\n",
    "\n",
    "filepath_NB = \"C:/Users/kimng/Desktop/AI4Good Project/Unzip Files/HR013b08/HR013b08.shp\" \n",
    "map_NB= gpd.read_file(filepath_NB, encoding=\"utf-8\")\n"
   ]
  },
  {
   "cell_type": "code",
   "execution_count": null,
   "metadata": {
    "colab": {
     "base_uri": "https://localhost:8080/",
     "height": 726
    },
    "id": "Qt7dxTpjRzws",
    "outputId": "4c872c4b-d5c6-4bc6-efd6-245427382c77"
   },
   "outputs": [],
   "source": [
    "#Saskatchewan\n",
    "zip_ref = zipfile.ZipFile(\"C:/Users/kimng/Desktop/AI4Good Project/Unzip Files/HR047b08.zip\", 'r')\n",
    "zip_ref.extractall(\"C:/Users/kimng/Desktop/AI4Good Project/Unzip Files/HR047b08\")\n",
    "zip_ref.close()\n",
    "\n",
    "filepath_SK = \"C:/Users/kimng/Desktop/AI4Good Project/Unzip Files/HR047b08/HR047b08.shp\" \n",
    "map_SK= gpd.read_file(filepath_SK, encoding=\"utf-8\")\n"
   ]
  },
  {
   "cell_type": "code",
   "execution_count": null,
   "metadata": {
    "colab": {
     "base_uri": "https://localhost:8080/",
     "height": 288
    },
    "id": "D-6toFaNSDRM",
    "outputId": "5beb0678-4e29-4c34-f9f9-3d619c7f87a6"
   },
   "outputs": [],
   "source": [
    "#Newfoundland and Labrador\n",
    "zip_ref = zipfile.ZipFile(\"C:/Users/kimng/Desktop/AI4Good Project/Unzip Files/HR010b08.zip\", 'r')\n",
    "zip_ref.extractall(\"C:/Users/kimng/Desktop/AI4Good Project/Unzip Files/HR010b08\")\n",
    "zip_ref.close()\n",
    "\n",
    "filepath_NL = \"C:/Users/kimng/Desktop/AI4Good Project/Unzip Files/HR010b08/HR010b08.shp\" \n",
    "map_NL= gpd.read_file(filepath_NL, encoding=\"utf-8\")\n"
   ]
  },
  {
   "cell_type": "code",
   "execution_count": null,
   "metadata": {
    "colab": {
     "base_uri": "https://localhost:8080/",
     "height": 970
    },
    "id": "6a3_2OhtSQqI",
    "outputId": "44c5cd89-cd99-40c0-f096-98193466234f"
   },
   "outputs": [],
   "source": [
    "#Quebec\n",
    "\n",
    "zip_ref = zipfile.ZipFile(\"C:/Users/kimng/Desktop/AI4Good Project/Unzip Files/HR024b08.zip\", 'r')\n",
    "zip_ref.extractall(\"C:/Users/kimng/Desktop/AI4Good Project/Unzip Files/HR024b08\")\n",
    "zip_ref.close()\n",
    "\n",
    "filepath_QC = \"C:/Users/kimng/Desktop/AI4Good Project/Unzip Files/HR024b08/HR024b08.shp\" \n",
    "map_QC= gpd.read_file(filepath_QC, encoding=\"utf-8\")\n"
   ]
  },
  {
   "cell_type": "code",
   "execution_count": null,
   "metadata": {
    "colab": {
     "base_uri": "https://localhost:8080/",
     "height": 206
    },
    "id": "jl7HZu-bSk1L",
    "outputId": "1fe54c03-3fd9-461a-ada1-934fc579ea08"
   },
   "outputs": [],
   "source": [
    "#Ontario\n",
    "\n",
    "zip_ref = zipfile.ZipFile(\"C:/Users/kimng/Desktop/AI4Good Project/Unzip Files/HR035b08.zip\", 'r')\n",
    "zip_ref.extractall(\"C:/Users/kimng/Desktop/AI4Good Project/Unzip Files/HR035b08\")\n",
    "zip_ref.close()\n",
    "\n",
    "filepath_ON = \"C:/Users/kimng/Desktop/AI4Good Project/Unzip Files/HR035b08/HR035b08.shp\" \n",
    "map_ON= gpd.read_file(filepath_ON, encoding=\"utf-8\")\n"
   ]
  },
  {
   "cell_type": "code",
   "execution_count": null,
   "metadata": {
    "colab": {
     "base_uri": "https://localhost:8080/"
    },
    "id": "mmn_tXatStg7",
    "outputId": "7e869713-7898-400b-f68c-fca6115973bc"
   },
   "outputs": [],
   "source": [
    "#Merge data\n",
    "\n",
    "map2 = gpd.GeoDataFrame(pd.concat([map_NB, map_SK, map_NL, map_QC, map_ON, map_NS],ignore_index=True),  geometry='geometry')\n",
    "map2.rename(index=str, columns ={'HRUID2007':'HR_UID'}, inplace=True)\n"
   ]
  },
  {
   "cell_type": "code",
   "execution_count": null,
   "metadata": {
    "id": "3afoIu5pYo2_"
   },
   "outputs": [],
   "source": [
    "map2.crs # get coordinate sys of the shape file\n",
    "# use this code to reset crs\n",
    "map2 = map2.to_crs('ESRI:102009')"
   ]
  },
  {
   "cell_type": "code",
   "execution_count": null,
   "metadata": {
    "colab": {
     "base_uri": "https://localhost:8080/",
     "height": 1000
    },
    "id": "59mlGdNLk_RU",
    "outputId": "b0b004cf-2647-41ad-cdb4-2064a4e7d766"
   },
   "outputs": [],
   "source": [
    "map_HR_all = gpd.GeoDataFrame(map2.merge(map_filtered1,how='left',on=['HR_UID','geometry']), geometry = 'geometry')\n",
    "map_HR_all"
   ]
  },
  {
   "cell_type": "code",
   "execution_count": null,
   "metadata": {
    "colab": {
     "base_uri": "https://localhost:8080/"
    },
    "id": "paNJFtVPb0ey",
    "outputId": "bc15a2bd-6bb3-41e8-f2b7-3e1213adf07e"
   },
   "outputs": [],
   "source": [
    "map_HR_all.crs"
   ]
  },
  {
   "cell_type": "code",
   "execution_count": null,
   "metadata": {
    "colab": {
     "base_uri": "https://localhost:8080/",
     "height": 285
    },
    "id": "RJpQ5lnumzgU",
    "outputId": "c079595e-dde7-4f06-97ab-0c1c214acc4a"
   },
   "outputs": [],
   "source": [
    "beds = pd.read_csv(\"C:/Users/kimng/Desktop/AI4Good Project/beds_mapid - beds_mapid.csv\")\n",
    "beds.head()"
   ]
  },
  {
   "cell_type": "code",
   "execution_count": null,
   "metadata": {
    "id": "StyLHAztoOcM"
   },
   "outputs": [],
   "source": [
    "#beds_map = gpd.GeoDataFrame(map_HR_all.merge(beds,how='left',on=['HR_UID']))\n",
    "#beds_map.head()\n",
    "map_HR_all[\"HR_UID\"] = pd.to_numeric(map_HR_all[\"HR_UID\"])\n",
    "beds[\"HR_UID\"] = pd.to_numeric(beds[\"HR_UID\"])\n"
   ]
  },
  {
   "cell_type": "code",
   "execution_count": null,
   "metadata": {
    "colab": {
     "base_uri": "https://localhost:8080/",
     "height": 612
    },
    "id": "yDysb1Z9poDM",
    "outputId": "c979c9a8-bf82-4750-b881-243a963a4efc"
   },
   "outputs": [],
   "source": [
    "beds_map = gpd.GeoDataFrame(map_HR_all.merge(beds,how='left',on=['HR_UID']),geometry='geometry')\n",
    "beds_map.head()"
   ]
  },
  {
   "cell_type": "code",
   "execution_count": null,
   "metadata": {
    "id": "D8AryaZN0t2j"
   },
   "outputs": [],
   "source": [
    "beds_map.rename(index=str, columns ={'Total‡':'TotalAvailableBeds','Pediatrics†':'Pediatrics', 'NICU beds \\nand bassinets§':'NICU beds \\nand bassinets'}, inplace=True)"
   ]
  },
  {
   "cell_type": "code",
   "execution_count": null,
   "metadata": {
    "colab": {
     "base_uri": "https://localhost:8080/"
    },
    "id": "FVgujjt_c115",
    "outputId": "4feeee8b-0500-45dd-e7e7-6394d01b90de"
   },
   "outputs": [],
   "source": [
    "beds_map.crs"
   ]
  },
  {
   "cell_type": "code",
   "execution_count": null,
   "metadata": {},
   "outputs": [],
   "source": [
    "beds_map = beds_map.dropna(subset=['HR_UID'])"
   ]
  },
  {
   "cell_type": "markdown",
   "metadata": {
    "id": "vEBhPy7vpr7l"
   },
   "source": [
    "# Choropleth Map\n",
    "\n"
   ]
  },
  {
   "cell_type": "code",
   "execution_count": null,
   "metadata": {
    "colab": {
     "base_uri": "https://localhost:8080/"
    },
    "id": "IWXTLMhbvBC6",
    "outputId": "8a3f17f1-1e1e-4f49-cff4-66723a1db7ef"
   },
   "outputs": [],
   "source": [
    "type(beds_map)"
   ]
  },
  {
   "cell_type": "code",
   "execution_count": null,
   "metadata": {
    "colab": {
     "base_uri": "https://localhost:8080/",
     "height": 206
    },
    "id": "RD-li8kM7pIT",
    "outputId": "6ab8ce64-f2a3-4c3d-fc5f-1410cf043d36"
   },
   "outputs": [],
   "source": [
    "beds_map_new = gpd.GeoDataFrame(beds_map[['HR_UID', 'geometry','Province/territory', 'Health region', 'TotalAvailableBeds']], geometry='geometry')\n",
    "beds_map_new.head()"
   ]
  },
  {
   "cell_type": "code",
   "execution_count": null,
   "metadata": {
    "id": "EZrEFdSHxeI2"
   },
   "outputs": [],
   "source": [
    "#This is to turns all object to str since geopandas do not like object type\n",
    "\n",
    "def gdf_object_to_str(gdf):\n",
    "    \"\"\"For a given GeoDataFrame, returns a copy that\n",
    "    recasts all `object`-type columns as `str`.\n",
    "\n",
    "    GeoDataFrame -> GeoDataFrame\"\"\"\n",
    "    df = gdf.copy()\n",
    "    coltypes = gpd.io.file.infer_schema(df)['properties']\n",
    "    for colname, coltype in coltypes.items():\n",
    "        if coltype == 'object':\n",
    "            df[colname] = df[colname].astype('string')\n",
    "    return df"
   ]
  },
  {
   "cell_type": "code",
   "execution_count": null,
   "metadata": {
    "id": "xnlSHeSM3v3Z"
   },
   "outputs": [],
   "source": [
    "beds_map_new = gdf_object_to_str(beds_map_new)"
   ]
  },
  {
   "cell_type": "code",
   "execution_count": null,
   "metadata": {
    "colab": {
     "base_uri": "https://localhost:8080/"
    },
    "id": "nTKXWAlv-BdM",
    "outputId": "e5527acf-2dc6-4969-83d3-d07c943798bd"
   },
   "outputs": [],
   "source": [
    "gpd.io.file.infer_schema(beds_map_new)"
   ]
  },
  {
   "cell_type": "code",
   "execution_count": null,
   "metadata": {
    "id": "Tjfz1tMTqHlh"
   },
   "outputs": [],
   "source": [
    "import json\n",
    "beds_map_new.to_file(\"C:/Users/kimng/Desktop/AI4Good Project/beds_map.geojson\", driver = \"GeoJSON\")\n",
    "with open(\"C:/Users/kimng/Desktop/AI4Good Project/beds_map.geojson\") as beds_map:\n",
    "    beds_file = json.load(beds_map)\n",
    "    #beds_file = beds_file.reset_index(drop=True, inplace=True)\n"
   ]
  },
  {
   "cell_type": "code",
   "execution_count": null,
   "metadata": {
    "id": "Qut14cpS99LY"
   },
   "outputs": [],
   "source": [
    "#When creating the plot You’ll need to have a feature-id associated with each feature, so you can associate the GeoJSON-formatted geometry with the z attribute\n",
    "i=1\n",
    "for feature in beds_file[\"features\"]:\n",
    "    feature ['id'] = str(i).zfill(2)\n",
    "    i += 1"
   ]
  },
  {
   "cell_type": "code",
   "execution_count": null,
   "metadata": {
    "id": "uBu4DfhU-Pu7"
   },
   "outputs": [],
   "source": [
    "\n",
    "fig = px.choropleth(beds_map_new, \n",
    "                    geojson=beds_map_new.geometry, \n",
    "                    locations=beds_map_new.index, \n",
    "                    color=\"TotalAvailableBeds\",\n",
    "                    height=500,\n",
    "                    color_continuous_scale=\"Viridis\",\n",
    "                    hover_name=\"Health region\",\n",
    "                    hover_data = [\"Province/territory\", \"TotalAvailableBeds\"])\n",
    "fig.update_layout(mapbox_style=\"open-street-map\")      \n",
    "fig.write_image(\"C:/Users/kimng/Desktop/AI4Good Project/img1.png\")\n",
    "fig.show()        "
   ]
  },
  {
   "cell_type": "code",
   "execution_count": null,
   "metadata": {
    "colab": {
     "base_uri": "https://localhost:8080/",
     "height": 610
    },
    "id": "TrtbI-isJKvt",
    "outputId": "f3c9b078-f4b3-4738-df13-fb4ccf5ad968"
   },
   "outputs": [],
   "source": [
    "#Plot the Choropleth map\n",
    "beds_map_new.plot(column = 'TotalAvailableBeds', #Assign numerical data column\n",
    "                      legend = True, #Decide to show legend or not\n",
    "                      figsize = [20,10],\n",
    "                      legend_kwds = {'label': \"Total Number of Available Hospital Beds\"}) #Name the legend\n"
   ]
  },
  {
   "cell_type": "markdown",
   "metadata": {
    "id": "IXvOqBtPMEgq"
   },
   "source": [
    "Notes for Friday meeting: \n",
    "+ Looks like the coordinate systems of the map was incorrect (potential discrepancies due to .shp files uses different crs system). This link may be helpful for correcting the crs https://www.earthdatascience.org/courses/use-data-open-source-python/intro-raster-data-python/fundamentals-raster-data/raster-metadata-in-python/ --- FIXED\n",
    "\n",
    "+ Somehow the plotly map didn't show (and no errors either) but the matplotlib works fine. I tried restarting runtime but it didn't fix the issue. May have to look into this if the issue persists after correcting crs."
   ]
  },
  {
   "cell_type": "code",
   "execution_count": null,
   "metadata": {
    "id": "eCRoxz3RM8pO"
   },
   "outputs": [],
   "source": []
  }
 ],
 "metadata": {
  "colab": {
   "collapsed_sections": [],
   "name": "PlotlyMap.ipynb",
   "provenance": []
  },
  "kernelspec": {
   "display_name": "Python 3 (ipykernel)",
   "language": "python",
   "name": "python3"
  },
  "language_info": {
   "codemirror_mode": {
    "name": "ipython",
    "version": 3
   },
   "file_extension": ".py",
   "mimetype": "text/x-python",
   "name": "python",
   "nbconvert_exporter": "python",
   "pygments_lexer": "ipython3",
   "version": "3.10.4"
  }
 },
 "nbformat": 4,
 "nbformat_minor": 1
}
