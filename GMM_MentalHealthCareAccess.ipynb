{
 "cells": [
  {
   "cell_type": "code",
   "execution_count": 1,
   "id": "a256949d",
   "metadata": {},
   "outputs": [],
   "source": [
    "%matplotlib inline\n",
    "import matplotlib.pyplot as plt\n",
    "import seaborn as sns; sns.set()\n",
    "import pandas as pd\n",
    "import numpy as np\n",
    "from sklearn.cluster import KMeans\n",
    "from scipy.spatial.distance import cdist\n",
    "\n",
    "np.random.seed(1234)\n",
    "\n",
    "import warnings\n",
    "warnings.filterwarnings(\"ignore\")"
   ]
  },
  {
   "cell_type": "code",
   "execution_count": 2,
   "id": "8d1d8cc4",
   "metadata": {},
   "outputs": [
    {
     "name": "stdout",
     "output_type": "stream",
     "text": [
      "<class 'pandas.core.frame.DataFrame'>\n",
      "RangeIndex: 79 entries, 0 to 78\n",
      "Data columns (total 33 columns):\n",
      " #   Column                                        Non-Null Count  Dtype  \n",
      "---  ------                                        --------------  -----  \n",
      " 0   Province/territory_x                          79 non-null     object \n",
      " 1   Health region_x                               79 non-null     object \n",
      " 2   HR_UID                                        77 non-null     float64\n",
      " 3   Intensive Care                                79 non-null     int64  \n",
      " 4   Obstetrics                                    79 non-null     int64  \n",
      " 5   Pediatrics†                                   79 non-null     int64  \n",
      " 6   Mental Health \n",
      "and Addictions                 79 non-null     int64  \n",
      " 7   Rehabilitation                                79 non-null     int64  \n",
      " 8   Long-Term Care                                79 non-null     int64  \n",
      " 9   Other Acute                                   79 non-null     int64  \n",
      " 10  Total Available Beds                          79 non-null     int64  \n",
      " 11  NICU beds \n",
      "and bassinets§                     79 non-null     int64  \n",
      " 12  Physician-to–100,000 population ratio         76 non-null     float64\n",
      " 13  PsychiatristNumber                            72 non-null     float64\n",
      " 14  TotalPhysicians                               76 non-null     object \n",
      " 15  Population                                    76 non-null     float64\n",
      " 16  avg_wait_time_replacement                     56 non-null     float64\n",
      " 17  avg_wait_time_exclude                         67 non-null     float64\n",
      " 18  total_avg_wait                                67 non-null     float64\n",
      " 19  low_perceived_health_p                        75 non-null     float64\n",
      " 20  low_perceived_mental_health_p                 72 non-null     object \n",
      " 21  mood_disorder_p                               72 non-null     float64\n",
      " 22  regular_provider_p                            75 non-null     float64\n",
      " 23  low_perceived_health_n                        75 non-null     float64\n",
      " 24  low_perceived_mental_health_n                 72 non-null     float64\n",
      " 25  mood_disorder_n                               72 non-null     float64\n",
      " 26  regular_provider_n                            75 non-null     float64\n",
      " 27  TotalBed-to-100,000_LowPerceivedHealth        75 non-null     float64\n",
      " 28  MHBed-to-100,000_LowPerceivedMH               72 non-null     float64\n",
      " 29  MHBed-to-100,000_moodDisorder                 72 non-null     float64\n",
      " 30  TotalPhysician-to-100,000_LowPerceivedHealth  75 non-null     float64\n",
      " 31  Psychiatrist-to-100,000_LowPerceivedMH        72 non-null     float64\n",
      " 32  Psychiatrist-to-100,000_moodDisorders         72 non-null     float64\n",
      "dtypes: float64(20), int64(9), object(4)\n",
      "memory usage: 20.5+ KB\n"
     ]
    }
   ],
   "source": [
    "data = pd.read_csv(\"C:/Users/kimng/Desktop/AI4Good Project/Cleaned data/FullDataset.csv\")\n",
    "data.info()"
   ]
  },
  {
   "cell_type": "code",
   "execution_count": 3,
   "id": "99003b19",
   "metadata": {},
   "outputs": [
    {
     "name": "stdout",
     "output_type": "stream",
     "text": [
      "<class 'pandas.core.frame.DataFrame'>\n",
      "RangeIndex: 79 entries, 0 to 78\n",
      "Data columns (total 34 columns):\n",
      " #   Column                                        Non-Null Count  Dtype  \n",
      "---  ------                                        --------------  -----  \n",
      " 0   Province/territory_x                          79 non-null     object \n",
      " 1   Health region_x                               79 non-null     object \n",
      " 2   HR_UID                                        77 non-null     float64\n",
      " 3   Intensive Care                                79 non-null     int64  \n",
      " 4   Obstetrics                                    79 non-null     int64  \n",
      " 5   Pediatrics†                                   79 non-null     int64  \n",
      " 6   Mental Health \n",
      "and Addictions                 79 non-null     int64  \n",
      " 7   Rehabilitation                                79 non-null     int64  \n",
      " 8   Long-Term Care                                79 non-null     int64  \n",
      " 9   Other Acute                                   79 non-null     int64  \n",
      " 10  Total Available Beds                          79 non-null     int64  \n",
      " 11  NICU beds \n",
      "and bassinets§                     79 non-null     int64  \n",
      " 12  Physician-to–100,000 population ratio         76 non-null     float64\n",
      " 13  PsychiatristNumber                            72 non-null     float64\n",
      " 14  TotalPhysicians                               76 non-null     object \n",
      " 15  Population                                    76 non-null     float64\n",
      " 16  avg_wait_time_replacement                     56 non-null     float64\n",
      " 17  avg_wait_time_exclude                         67 non-null     float64\n",
      " 18  total_avg_wait                                67 non-null     float64\n",
      " 19  low_perceived_health_p                        75 non-null     float64\n",
      " 20  low_perceived_mental_health_p                 72 non-null     object \n",
      " 21  mood_disorder_p                               72 non-null     float64\n",
      " 22  regular_provider_p                            75 non-null     float64\n",
      " 23  low_perceived_health_n                        75 non-null     float64\n",
      " 24  low_perceived_mental_health_n                 72 non-null     float64\n",
      " 25  mood_disorder_n                               72 non-null     float64\n",
      " 26  regular_provider_n                            75 non-null     float64\n",
      " 27  TotalBed-to-100,000_LowPerceivedHealth        75 non-null     float64\n",
      " 28  MHBed-to-100,000_LowPerceivedMH               72 non-null     float64\n",
      " 29  MHBed-to-100,000_moodDisorder                 72 non-null     float64\n",
      " 30  TotalPhysician-to-100,000_LowPerceivedHealth  75 non-null     float64\n",
      " 31  Psychiatrist-to-100,000_LowPerceivedMH        72 non-null     float64\n",
      " 32  Psychiatrist-to-100,000_moodDisorders         72 non-null     float64\n",
      " 33  Psychiatrist-to-100,000 population ratio      72 non-null     float64\n",
      "dtypes: float64(21), int64(9), object(4)\n",
      "memory usage: 21.1+ KB\n"
     ]
    }
   ],
   "source": [
    "data['Psychiatrist-to-100,000 population ratio'] = (data['PsychiatristNumber']/data['Population'])*100000\n",
    "data.info()"
   ]
  },
  {
   "cell_type": "code",
   "execution_count": 16,
   "id": "4dc2c75c",
   "metadata": {},
   "outputs": [
    {
     "name": "stdout",
     "output_type": "stream",
     "text": [
      "<class 'pandas.core.frame.DataFrame'>\n",
      "Int64Index: 72 entries, 0 to 78\n",
      "Data columns (total 5 columns):\n",
      " #   Column                                  Non-Null Count  Dtype  \n",
      "---  ------                                  --------------  -----  \n",
      " 0   HR_UID                                  72 non-null     float64\n",
      " 1   Health region_x                         72 non-null     object \n",
      " 2   Province/territory_x                    72 non-null     object \n",
      " 3   MHBed-to-100,000_LowPerceivedMH         72 non-null     float64\n",
      " 4   Psychiatrist-to-100,000_LowPerceivedMH  72 non-null     float64\n",
      "dtypes: float64(3), object(2)\n",
      "memory usage: 3.4+ KB\n"
     ]
    }
   ],
   "source": [
    "#Getting data\n",
    "X = data[['HR_UID',\n",
    "          'Health region_x',\n",
    "          'Province/territory_x',\n",
    "#          'regular_provider_p',\n",
    "          'MHBed-to-100,000_LowPerceivedMH' ,\n",
    "          'Psychiatrist-to-100,000_LowPerceivedMH' ]]\n",
    "X.dropna(inplace=True)\n",
    "X.info()"
   ]
  },
  {
   "cell_type": "code",
   "execution_count": 17,
   "id": "e0ae3025",
   "metadata": {},
   "outputs": [
    {
     "data": {
      "text/html": [
       "<div>\n",
       "<style scoped>\n",
       "    .dataframe tbody tr th:only-of-type {\n",
       "        vertical-align: middle;\n",
       "    }\n",
       "\n",
       "    .dataframe tbody tr th {\n",
       "        vertical-align: top;\n",
       "    }\n",
       "\n",
       "    .dataframe thead th {\n",
       "        text-align: right;\n",
       "    }\n",
       "</style>\n",
       "<table border=\"1\" class=\"dataframe\">\n",
       "  <thead>\n",
       "    <tr style=\"text-align: right;\">\n",
       "      <th></th>\n",
       "      <th>MHBed-to-100,000_LowPerceivedMH</th>\n",
       "      <th>Psychiatrist-to-100,000_LowPerceivedMH</th>\n",
       "    </tr>\n",
       "  </thead>\n",
       "  <tbody>\n",
       "    <tr>\n",
       "      <th>count</th>\n",
       "      <td>72.000000</td>\n",
       "      <td>72.000000</td>\n",
       "    </tr>\n",
       "    <tr>\n",
       "      <th>mean</th>\n",
       "      <td>0.114269</td>\n",
       "      <td>0.207058</td>\n",
       "    </tr>\n",
       "    <tr>\n",
       "      <th>std</th>\n",
       "      <td>0.151454</td>\n",
       "      <td>0.190199</td>\n",
       "    </tr>\n",
       "    <tr>\n",
       "      <th>min</th>\n",
       "      <td>0.000000</td>\n",
       "      <td>0.000000</td>\n",
       "    </tr>\n",
       "    <tr>\n",
       "      <th>25%</th>\n",
       "      <td>0.037440</td>\n",
       "      <td>0.097010</td>\n",
       "    </tr>\n",
       "    <tr>\n",
       "      <th>50%</th>\n",
       "      <td>0.079087</td>\n",
       "      <td>0.143255</td>\n",
       "    </tr>\n",
       "    <tr>\n",
       "      <th>75%</th>\n",
       "      <td>0.141166</td>\n",
       "      <td>0.244089</td>\n",
       "    </tr>\n",
       "    <tr>\n",
       "      <th>max</th>\n",
       "      <td>1.000000</td>\n",
       "      <td>1.000000</td>\n",
       "    </tr>\n",
       "  </tbody>\n",
       "</table>\n",
       "</div>"
      ],
      "text/plain": [
       "       MHBed-to-100,000_LowPerceivedMH  Psychiatrist-to-100,000_LowPerceivedMH\n",
       "count                        72.000000                               72.000000\n",
       "mean                          0.114269                                0.207058\n",
       "std                           0.151454                                0.190199\n",
       "min                           0.000000                                0.000000\n",
       "25%                           0.037440                                0.097010\n",
       "50%                           0.079087                                0.143255\n",
       "75%                           0.141166                                0.244089\n",
       "max                           1.000000                                1.000000"
      ]
     },
     "execution_count": 17,
     "metadata": {},
     "output_type": "execute_result"
    }
   ],
   "source": [
    "cluster_dim = [\n",
    "#               'regular_provider_p', \n",
    "               'MHBed-to-100,000_LowPerceivedMH', \n",
    "               'Psychiatrist-to-100,000_LowPerceivedMH']\n",
    "\n",
    "from sklearn.preprocessing import MinMaxScaler\n",
    "scaler = MinMaxScaler()\n",
    "\n",
    "X1 = X[cluster_dim]\n",
    "\n",
    "X1[cluster_dim] = scaler.fit_transform(X1[cluster_dim])\n",
    "#X1 = X[cluster_dim]\n",
    "X1.describe()"
   ]
  },
  {
   "cell_type": "code",
   "execution_count": 18,
   "id": "c0941fef",
   "metadata": {
    "scrolled": true
   },
   "outputs": [
    {
     "data": {
      "image/png": "[encoded data removed]",
      "text/plain": [
       "<Figure size 432x288 with 1 Axes>"
      ]
     },
     "metadata": {},
     "output_type": "display_data"
    },
    {
     "data": {
      "image/png": "[encoded data removed]",
      "text/plain": [
       "<Figure size 432x288 with 1 Axes>"
      ]
     },
     "metadata": {},
     "output_type": "display_data"
    },
    {
     "data": {
      "image/png": "[encoded data removed]",
      "text/plain": [
       "<Figure size 432x288 with 1 Axes>"
      ]
     },
     "metadata": {},
     "output_type": "display_data"
    },
    {
     "data": {
      "image/png": "[encoded data removed]",
      "text/plain": [
       "<Figure size 432x288 with 1 Axes>"
      ]
     },
     "metadata": {},
     "output_type": "display_data"
    }
   ],
   "source": [
    "from sklearn import mixture\n",
    "\n",
    "cov_type = [\"full\", \"tied\", \"diag\", \"spherical\"]\n",
    "for c_type in cov_type:\n",
    "    n_components = np.arange(1, 10)\n",
    "    clfs = [mixture.GaussianMixture(n, max_iter = 1000, covariance_type = c_type,\n",
    "                                   random_state = 1234).fit(X1) for n in n_components]\n",
    "    bics = [clf.bic(X1) for clf in clfs]\n",
    "    aics = [clf.aic(X1) for clf in clfs]\n",
    "\n",
    "    plt.plot(n_components, bics, label = 'BIC')\n",
    "    plt.plot(n_components, aics, label = 'AIC')\n",
    "    plt.xlabel('n_components')\n",
    "    plt.legend()\n",
    "    plt.title('Covariance Type: ' + c_type)\n",
    "    plt.show()"
   ]
  },
  {
   "cell_type": "code",
   "execution_count": 36,
   "id": "f59a2640",
   "metadata": {},
   "outputs": [
    {
     "data": {
      "application/vnd.plotly.v1+json": {
       "config": {
        "plotlyServerURL": "https://plot.ly"
       },
       "data": [
        {
         "customdata": [
          [
           "AB"
          ],
          [
           "AB"
          ],
          [
           "AB"
          ],
          [
           "BC"
          ],
          [
           "MB"
          ],
          [
           "MB"
          ],
          [
           "MB"
          ],
          [
           "NB"
          ],
          [
           "NB"
          ],
          [
           "NB"
          ],
          [
           "NL"
          ],
          [
           "NL"
          ],
          [
           "NS"
          ],
          [
           "NS"
          ],
          [
           "ON"
          ],
          [
           "ON"
          ],
          [
           "ON"
          ],
          [
           "ON"
          ],
          [
           "ON"
          ],
          [
           "ON"
          ],
          [
           "ON"
          ],
          [
           "ON"
          ],
          [
           "PE"
          ],
          [
           "QC"
          ],
          [
           "QC"
          ],
          [
           "QC"
          ],
          [
           "QC"
          ],
          [
           "QC"
          ],
          [
           "QC"
          ],
          [
           "SK"
          ],
          [
           "SK"
          ]
         ],
         "hovertemplate": "<b>%{hovertext}</b><br><br>labels=1<br>MHBed-to-100,000_LowPerceivedMH=%{x}<br>Psychiatrist-to-100,000_LowPerceivedMH=%{y}<br>Province/territory_x=%{customdata[0]}<extra></extra>",
         "hovertext": [
          "Calgary Zone",
          "Central Zone",
          "Edmonton Zone",
          "Interior Health",
          "Interlake–Eastern Regional Health Authority",
          "Prairie Mountain Health",
          "Winnipeg Regional Health Authority",
          "Zone 2 (Saint John Area)",
          "Zone 4 (Edmundston Area)",
          "Zone 6 (Bathurst Area)",
          "Central Health",
          "Western Health",
          "Central Zone",
          "Eastern Zone",
          "Champlain LHIN",
          "Hamilton Niagara Haldimand Brant LHIN",
          "North East LHIN",
          "North Simcoe Muskoka LHIN",
          "North West LHIN",
          "South East LHIN",
          "South West LHIN",
          "Waterloo Wellington LHIN",
          "Health PEI",
          "Abitibi-Témiscamingue Region",
          "Lanaudière Region",
          "Laurentides Region",
          "Laval Region",
          "Montérégie Region",
          "Outaouais Region",
          "Regina Qu’Appelle Health Region",
          "Saskatoon Health Region"
         ],
         "legendgroup": "1",
         "marker": {
          "color": "#636efa",
          "symbol": "circle"
         },
         "mode": "markers",
         "name": "1",
         "orientation": "v",
         "showlegend": true,
         "type": "scatter",
         "x": [
          301,
          727,
          424,
          251,
          0,
          375,
          176,
          325,
          529,
          484,
          306,
          350,
          419,
          380,
          291,
          333,
          557,
          745,
          457,
          375,
          517,
          560,
          650,
          893,
          580,
          475,
          242,
          334,
          609,
          378,
          199
         ],
         "xaxis": "x",
         "y": [
          183,
          73,
          173,
          199,
          141,
          85,
          218,
          98,
          106,
          126,
          138,
          143,
          204,
          104,
          197,
          111,
          83,
          89,
          127,
          152,
          154,
          101,
          92,
          162,
          168,
          92,
          125,
          139,
          101,
          92,
          151
         ],
         "yaxis": "y"
        },
        {
         "customdata": [
          [
           "AB"
          ],
          [
           "AB"
          ],
          [
           "BC"
          ],
          [
           "BC"
          ],
          [
           "BC"
          ],
          [
           "MB"
          ],
          [
           "MB"
          ],
          [
           "NB"
          ],
          [
           "NB"
          ],
          [
           "NB"
          ],
          [
           "NL"
          ],
          [
           "NS"
          ],
          [
           "NS"
          ],
          [
           "NT"
          ],
          [
           "ON"
          ],
          [
           "ON"
          ],
          [
           "ON"
          ],
          [
           "ON"
          ],
          [
           "ON"
          ],
          [
           "SK"
          ],
          [
           "SK"
          ],
          [
           "SK"
          ],
          [
           "SK"
          ],
          [
           "SK"
          ],
          [
           "SK"
          ],
          [
           "SK"
          ],
          [
           "YT"
          ]
         ],
         "hovertemplate": "<b>%{hovertext}</b><br><br>labels=4<br>MHBed-to-100,000_LowPerceivedMH=%{x}<br>Psychiatrist-to-100,000_LowPerceivedMH=%{y}<br>Province/territory_x=%{customdata[0]}<extra></extra>",
         "hovertext": [
          "North Zone",
          "South Zone",
          "Fraser Health",
          "Island Health",
          "Northern Health",
          "Northern Health Region",
          "Southern Health — Santé Sud",
          "Zone 1 (Moncton Area)",
          "Zone 3 (Fredericton Area)",
          "Zone 7 (Miramichi Area)",
          "Labrador–Grenfell Health",
          "Northern Zone",
          "Western Zone",
          "N.W.T.",
          "Central East LHIN",
          "Central LHIN",
          "Central West LHIN",
          "Erie St. Clair LHIN",
          "Mississauga Halton LHIN",
          "Cypress Health Region",
          "Five Hills Health Region",
          "Heartland Health Region",
          "Kelsey Trail Health Region",
          "Prince Albert Parkland Health Region",
          "Sun Country Health Region",
          "Sunrise Health Region",
          "Yukon"
         ],
         "legendgroup": "4",
         "marker": {
          "color": "#EF553B",
          "symbol": "circle"
         },
         "mode": "markers",
         "name": "4",
         "orientation": "v",
         "showlegend": true,
         "type": "scatter",
         "x": [
          89,
          231,
          149,
          162,
          141,
          182,
          0,
          205,
          144,
          229,
          0,
          136,
          91,
          0,
          325,
          108,
          99,
          236,
          158,
          0,
          241,
          0,
          0,
          529,
          0,
          0,
          146
         ],
         "xaxis": "x",
         "y": [
          38,
          76,
          42,
          42,
          68,
          41,
          45,
          102,
          110,
          38,
          62,
          56,
          70,
          54,
          69,
          93,
          37,
          55,
          97,
          112,
          80,
          0,
          0,
          54,
          73,
          97,
          29
         ],
         "yaxis": "y"
        },
        {
         "customdata": [
          [
           "BC"
          ],
          [
           "NL"
          ],
          [
           "QC"
          ],
          [
           "QC"
          ],
          [
           "QC"
          ],
          [
           "QC"
          ],
          [
           "QC"
          ],
          [
           "QC"
          ],
          [
           "QC"
          ]
         ],
         "hovertemplate": "<b>%{hovertext}</b><br><br>labels=0<br>MHBed-to-100,000_LowPerceivedMH=%{x}<br>Psychiatrist-to-100,000_LowPerceivedMH=%{y}<br>Province/territory_x=%{customdata[0]}<extra></extra>",
         "hovertext": [
          "Vancouver Coastal Health",
          "Eastern Health",
          "Bas-Saint-Laurent Region",
          "Côte-Nord Region",
          "Chaudière-Appalaches Region",
          "Estrie Region",
          "Mauricie et Centre-du-Québec Region",
          "Montréal Region",
          "Saguenay–Lac-Saint-Jean Region"
         ],
         "legendgroup": "0",
         "marker": {
          "color": "#00cc96",
          "symbol": "circle"
         },
         "mode": "markers",
         "name": "0",
         "orientation": "v",
         "showlegend": true,
         "type": "scatter",
         "x": [
          276,
          620,
          661,
          848,
          901,
          624,
          842,
          729,
          1232
         ],
         "xaxis": "x",
         "y": [
          377,
          247,
          301,
          257,
          331,
          297,
          288,
          320,
          291
         ],
         "yaxis": "y"
        },
        {
         "customdata": [
          [
           "NB"
          ],
          [
           "SK"
          ]
         ],
         "hovertemplate": "<b>%{hovertext}</b><br><br>labels=2<br>MHBed-to-100,000_LowPerceivedMH=%{x}<br>Psychiatrist-to-100,000_LowPerceivedMH=%{y}<br>Province/territory_x=%{customdata[0]}<extra></extra>",
         "hovertext": [
          "Zone 5 (Campbellton Area)",
          "Prairie North Health Region"
         ],
         "legendgroup": "2",
         "marker": {
          "color": "#ab63fa",
          "symbol": "circle"
         },
         "mode": "markers",
         "name": "2",
         "orientation": "v",
         "showlegend": true,
         "type": "scatter",
         "x": [
          3129,
          4160
         ],
         "xaxis": "x",
         "y": [
          185,
          59
         ],
         "yaxis": "y"
        },
        {
         "customdata": [
          [
           "ON"
          ],
          [
           "QC"
          ],
          [
           "QC"
          ]
         ],
         "hovertemplate": "<b>%{hovertext}</b><br><br>labels=3<br>MHBed-to-100,000_LowPerceivedMH=%{x}<br>Psychiatrist-to-100,000_LowPerceivedMH=%{y}<br>Province/territory_x=%{customdata[0]}<extra></extra>",
         "hovertext": [
          "Toronto Central LHIN",
          "Capitale-Nationale Region",
          "Gaspésie–Îles-de-la-Madeleine Region"
         ],
         "legendgroup": "3",
         "marker": {
          "color": "#FFA15A",
          "symbol": "circle"
         },
         "mode": "markers",
         "name": "3",
         "orientation": "v",
         "showlegend": true,
         "type": "scatter",
         "x": [
          626,
          1153,
          1582
         ],
         "xaxis": "x",
         "y": [
          616,
          664,
          719
         ],
         "yaxis": "y"
        }
       ],
       "layout": {
        "legend": {
         "title": {
          "text": "labels"
         },
         "tracegroupgap": 0
        },
        "margin": {
         "t": 60
        },
        "template": {
         "data": {
          "bar": [
           {
            "error_x": {
             "color": "#2a3f5f"
            },
            "error_y": {
             "color": "#2a3f5f"
            },
            "marker": {
             "line": {
              "color": "#E5ECF6",
              "width": 0.5
             },
             "pattern": {
              "fillmode": "overlay",
              "size": 10,
              "solidity": 0.2
             }
            },
            "type": "bar"
           }
          ],
          "barpolar": [
           {
            "marker": {
             "line": {
              "color": "#E5ECF6",
              "width": 0.5
             },
             "pattern": {
              "fillmode": "overlay",
              "size": 10,
              "solidity": 0.2
             }
            },
            "type": "barpolar"
           }
          ],
          "carpet": [
           {
            "aaxis": {
             "endlinecolor": "#2a3f5f",
             "gridcolor": "white",
             "linecolor": "white",
             "minorgridcolor": "white",
             "startlinecolor": "#2a3f5f"
            },
            "baxis": {
             "endlinecolor": "#2a3f5f",
             "gridcolor": "white",
             "linecolor": "white",
             "minorgridcolor": "white",
             "startlinecolor": "#2a3f5f"
            },
            "type": "carpet"
           }
          ],
          "choropleth": [
           {
            "colorbar": {
             "outlinewidth": 0,
             "ticks": ""
            },
            "type": "choropleth"
           }
          ],
          "contour": [
           {
            "colorbar": {
             "outlinewidth": 0,
             "ticks": ""
            },
            "colorscale": [
             [
              0,
              "#0d0887"
             ],
             [
              0.1111111111111111,
              "#46039f"
             ],
             [
              0.2222222222222222,
              "#7201a8"
             ],
             [
              0.3333333333333333,
              "#9c179e"
             ],
             [
              0.4444444444444444,
              "#bd3786"
             ],
             [
              0.5555555555555556,
              "#d8576b"
             ],
             [
              0.6666666666666666,
              "#ed7953"
             ],
             [
              0.7777777777777778,
              "#fb9f3a"
             ],
             [
              0.8888888888888888,
              "#fdca26"
             ],
             [
              1,
              "#f0f921"
             ]
            ],
            "type": "contour"
           }
          ],
          "contourcarpet": [
           {
            "colorbar": {
             "outlinewidth": 0,
             "ticks": ""
            },
            "type": "contourcarpet"
           }
          ],
          "heatmap": [
           {
            "colorbar": {
             "outlinewidth": 0,
             "ticks": ""
            },
            "colorscale": [
             [
              0,
              "#0d0887"
             ],
             [
              0.1111111111111111,
              "#46039f"
             ],
             [
              0.2222222222222222,
              "#7201a8"
             ],
             [
              0.3333333333333333,
              "#9c179e"
             ],
             [
              0.4444444444444444,
              "#bd3786"
             ],
             [
              0.5555555555555556,
              "#d8576b"
             ],
             [
              0.6666666666666666,
              "#ed7953"
             ],
             [
              0.7777777777777778,
              "#fb9f3a"
             ],
             [
              0.8888888888888888,
              "#fdca26"
             ],
             [
              1,
              "#f0f921"
             ]
            ],
            "type": "heatmap"
           }
          ],
          "heatmapgl": [
           {
            "colorbar": {
             "outlinewidth": 0,
             "ticks": ""
            },
            "colorscale": [
             [
              0,
              "#0d0887"
             ],
             [
              0.1111111111111111,
              "#46039f"
             ],
             [
              0.2222222222222222,
              "#7201a8"
             ],
             [
              0.3333333333333333,
              "#9c179e"
             ],
             [
              0.4444444444444444,
              "#bd3786"
             ],
             [
              0.5555555555555556,
              "#d8576b"
             ],
             [
              0.6666666666666666,
              "#ed7953"
             ],
             [
              0.7777777777777778,
              "#fb9f3a"
             ],
             [
              0.8888888888888888,
              "#fdca26"
             ],
             [
              1,
              "#f0f921"
             ]
            ],
            "type": "heatmapgl"
           }
          ],
          "histogram": [
           {
            "marker": {
             "pattern": {
              "fillmode": "overlay",
              "size": 10,
              "solidity": 0.2
             }
            },
            "type": "histogram"
           }
          ],
          "histogram2d": [
           {
            "colorbar": {
             "outlinewidth": 0,
             "ticks": ""
            },
            "colorscale": [
             [
              0,
              "#0d0887"
             ],
             [
              0.1111111111111111,
              "#46039f"
             ],
             [
              0.2222222222222222,
              "#7201a8"
             ],
             [
              0.3333333333333333,
              "#9c179e"
             ],
             [
              0.4444444444444444,
              "#bd3786"
             ],
             [
              0.5555555555555556,
              "#d8576b"
             ],
             [
              0.6666666666666666,
              "#ed7953"
             ],
             [
              0.7777777777777778,
              "#fb9f3a"
             ],
             [
              0.8888888888888888,
              "#fdca26"
             ],
             [
              1,
              "#f0f921"
             ]
            ],
            "type": "histogram2d"
           }
          ],
          "histogram2dcontour": [
           {
            "colorbar": {
             "outlinewidth": 0,
             "ticks": ""
            },
            "colorscale": [
             [
              0,
              "#0d0887"
             ],
             [
              0.1111111111111111,
              "#46039f"
             ],
             [
              0.2222222222222222,
              "#7201a8"
             ],
             [
              0.3333333333333333,
              "#9c179e"
             ],
             [
              0.4444444444444444,
              "#bd3786"
             ],
             [
              0.5555555555555556,
              "#d8576b"
             ],
             [
              0.6666666666666666,
              "#ed7953"
             ],
             [
              0.7777777777777778,
              "#fb9f3a"
             ],
             [
              0.8888888888888888,
              "#fdca26"
             ],
             [
              1,
              "#f0f921"
             ]
            ],
            "type": "histogram2dcontour"
           }
          ],
          "mesh3d": [
           {
            "colorbar": {
             "outlinewidth": 0,
             "ticks": ""
            },
            "type": "mesh3d"
           }
          ],
          "parcoords": [
           {
            "line": {
             "colorbar": {
              "outlinewidth": 0,
              "ticks": ""
             }
            },
            "type": "parcoords"
           }
          ],
          "pie": [
           {
            "automargin": true,
            "type": "pie"
           }
          ],
          "scatter": [
           {
            "fillpattern": {
             "fillmode": "overlay",
             "size": 10,
             "solidity": 0.2
            },
            "type": "scatter"
           }
          ],
          "scatter3d": [
           {
            "line": {
             "colorbar": {
              "outlinewidth": 0,
              "ticks": ""
             }
            },
            "marker": {
             "colorbar": {
              "outlinewidth": 0,
              "ticks": ""
             }
            },
            "type": "scatter3d"
           }
          ],
          "scattercarpet": [
           {
            "marker": {
             "colorbar": {
              "outlinewidth": 0,
              "ticks": ""
             }
            },
            "type": "scattercarpet"
           }
          ],
          "scattergeo": [
           {
            "marker": {
             "colorbar": {
              "outlinewidth": 0,
              "ticks": ""
             }
            },
            "type": "scattergeo"
           }
          ],
          "scattergl": [
           {
            "marker": {
             "colorbar": {
              "outlinewidth": 0,
              "ticks": ""
             }
            },
            "type": "scattergl"
           }
          ],
          "scattermapbox": [
           {
            "marker": {
             "colorbar": {
              "outlinewidth": 0,
              "ticks": ""
             }
            },
            "type": "scattermapbox"
           }
          ],
          "scatterpolar": [
           {
            "marker": {
             "colorbar": {
              "outlinewidth": 0,
              "ticks": ""
             }
            },
            "type": "scatterpolar"
           }
          ],
          "scatterpolargl": [
           {
            "marker": {
             "colorbar": {
              "outlinewidth": 0,
              "ticks": ""
             }
            },
            "type": "scatterpolargl"
           }
          ],
          "scatterternary": [
           {
            "marker": {
             "colorbar": {
              "outlinewidth": 0,
              "ticks": ""
             }
            },
            "type": "scatterternary"
           }
          ],
          "surface": [
           {
            "colorbar": {
             "outlinewidth": 0,
             "ticks": ""
            },
            "colorscale": [
             [
              0,
              "#0d0887"
             ],
             [
              0.1111111111111111,
              "#46039f"
             ],
             [
              0.2222222222222222,
              "#7201a8"
             ],
             [
              0.3333333333333333,
              "#9c179e"
             ],
             [
              0.4444444444444444,
              "#bd3786"
             ],
             [
              0.5555555555555556,
              "#d8576b"
             ],
             [
              0.6666666666666666,
              "#ed7953"
             ],
             [
              0.7777777777777778,
              "#fb9f3a"
             ],
             [
              0.8888888888888888,
              "#fdca26"
             ],
             [
              1,
              "#f0f921"
             ]
            ],
            "type": "surface"
           }
          ],
          "table": [
           {
            "cells": {
             "fill": {
              "color": "#EBF0F8"
             },
             "line": {
              "color": "white"
             }
            },
            "header": {
             "fill": {
              "color": "#C8D4E3"
             },
             "line": {
              "color": "white"
             }
            },
            "type": "table"
           }
          ]
         },
         "layout": {
          "annotationdefaults": {
           "arrowcolor": "#2a3f5f",
           "arrowhead": 0,
           "arrowwidth": 1
          },
          "autotypenumbers": "strict",
          "coloraxis": {
           "colorbar": {
            "outlinewidth": 0,
            "ticks": ""
           }
          },
          "colorscale": {
           "diverging": [
            [
             0,
             "#8e0152"
            ],
            [
             0.1,
             "#c51b7d"
            ],
            [
             0.2,
             "#de77ae"
            ],
            [
             0.3,
             "#f1b6da"
            ],
            [
             0.4,
             "#fde0ef"
            ],
            [
             0.5,
             "#f7f7f7"
            ],
            [
             0.6,
             "#e6f5d0"
            ],
            [
             0.7,
             "#b8e186"
            ],
            [
             0.8,
             "#7fbc41"
            ],
            [
             0.9,
             "#4d9221"
            ],
            [
             1,
             "#276419"
            ]
           ],
           "sequential": [
            [
             0,
             "#0d0887"
            ],
            [
             0.1111111111111111,
             "#46039f"
            ],
            [
             0.2222222222222222,
             "#7201a8"
            ],
            [
             0.3333333333333333,
             "#9c179e"
            ],
            [
             0.4444444444444444,
             "#bd3786"
            ],
            [
             0.5555555555555556,
             "#d8576b"
            ],
            [
             0.6666666666666666,
             "#ed7953"
            ],
            [
             0.7777777777777778,
             "#fb9f3a"
            ],
            [
             0.8888888888888888,
             "#fdca26"
            ],
            [
             1,
             "#f0f921"
            ]
           ],
           "sequentialminus": [
            [
             0,
             "#0d0887"
            ],
            [
             0.1111111111111111,
             "#46039f"
            ],
            [
             0.2222222222222222,
             "#7201a8"
            ],
            [
             0.3333333333333333,
             "#9c179e"
            ],
            [
             0.4444444444444444,
             "#bd3786"
            ],
            [
             0.5555555555555556,
             "#d8576b"
            ],
            [
             0.6666666666666666,
             "#ed7953"
            ],
            [
             0.7777777777777778,
             "#fb9f3a"
            ],
            [
             0.8888888888888888,
             "#fdca26"
            ],
            [
             1,
             "#f0f921"
            ]
           ]
          },
          "colorway": [
           "#636efa",
           "#EF553B",
           "#00cc96",
           "#ab63fa",
           "#FFA15A",
           "#19d3f3",
           "#FF6692",
           "#B6E880",
           "#FF97FF",
           "#FECB52"
          ],
          "font": {
           "color": "#2a3f5f"
          },
          "geo": {
           "bgcolor": "white",
           "lakecolor": "white",
           "landcolor": "#E5ECF6",
           "showlakes": true,
           "showland": true,
           "subunitcolor": "white"
          },
          "hoverlabel": {
           "align": "left"
          },
          "hovermode": "closest",
          "mapbox": {
           "style": "light"
          },
          "paper_bgcolor": "white",
          "plot_bgcolor": "#E5ECF6",
          "polar": {
           "angularaxis": {
            "gridcolor": "white",
            "linecolor": "white",
            "ticks": ""
           },
           "bgcolor": "#E5ECF6",
           "radialaxis": {
            "gridcolor": "white",
            "linecolor": "white",
            "ticks": ""
           }
          },
          "scene": {
           "xaxis": {
            "backgroundcolor": "#E5ECF6",
            "gridcolor": "white",
            "gridwidth": 2,
            "linecolor": "white",
            "showbackground": true,
            "ticks": "",
            "zerolinecolor": "white"
           },
           "yaxis": {
            "backgroundcolor": "#E5ECF6",
            "gridcolor": "white",
            "gridwidth": 2,
            "linecolor": "white",
            "showbackground": true,
            "ticks": "",
            "zerolinecolor": "white"
           },
           "zaxis": {
            "backgroundcolor": "#E5ECF6",
            "gridcolor": "white",
            "gridwidth": 2,
            "linecolor": "white",
            "showbackground": true,
            "ticks": "",
            "zerolinecolor": "white"
           }
          },
          "shapedefaults": {
           "line": {
            "color": "#2a3f5f"
           }
          },
          "ternary": {
           "aaxis": {
            "gridcolor": "white",
            "linecolor": "white",
            "ticks": ""
           },
           "baxis": {
            "gridcolor": "white",
            "linecolor": "white",
            "ticks": ""
           },
           "bgcolor": "#E5ECF6",
           "caxis": {
            "gridcolor": "white",
            "linecolor": "white",
            "ticks": ""
           }
          },
          "title": {
           "x": 0.05
          },
          "xaxis": {
           "automargin": true,
           "gridcolor": "white",
           "linecolor": "white",
           "ticks": "",
           "title": {
            "standoff": 15
           },
           "zerolinecolor": "white",
           "zerolinewidth": 2
          },
          "yaxis": {
           "automargin": true,
           "gridcolor": "white",
           "linecolor": "white",
           "ticks": "",
           "title": {
            "standoff": 15
           },
           "zerolinecolor": "white",
           "zerolinewidth": 2
          }
         }
        },
        "xaxis": {
         "anchor": "y",
         "domain": [
          0,
          1
         ],
         "title": {
          "text": "MHBed-to-100,000_LowPerceivedMH"
         }
        },
        "yaxis": {
         "anchor": "x",
         "domain": [
          0,
          1
         ],
         "title": {
          "text": "Psychiatrist-to-100,000_LowPerceivedMH"
         }
        }
       }
      },
      "text/html": [
       "<div>                            <div id=\"0bc959f1-2868-4b27-b151-bbb638abe932\" class=\"plotly-graph-div\" style=\"height:525px; width:100%;\"></div>            <script type=\"text/javascript\">                require([\"plotly\"], function(Plotly) {                    window.PLOTLYENV=window.PLOTLYENV || {};                                    if (document.getElementById(\"0bc959f1-2868-4b27-b151-bbb638abe932\")) {                    Plotly.newPlot(                        \"0bc959f1-2868-4b27-b151-bbb638abe932\",                        [{\"customdata\":[[\"AB\"],[\"AB\"],[\"AB\"],[\"BC\"],[\"MB\"],[\"MB\"],[\"MB\"],[\"NB\"],[\"NB\"],[\"NB\"],[\"NL\"],[\"NL\"],[\"NS\"],[\"NS\"],[\"ON\"],[\"ON\"],[\"ON\"],[\"ON\"],[\"ON\"],[\"ON\"],[\"ON\"],[\"ON\"],[\"PE\"],[\"QC\"],[\"QC\"],[\"QC\"],[\"QC\"],[\"QC\"],[\"QC\"],[\"SK\"],[\"SK\"]],\"hovertemplate\":\"<b>%{hovertext}</b><br><br>labels=1<br>MHBed-to-100,000_LowPerceivedMH=%{x}<br>Psychiatrist-to-100,000_LowPerceivedMH=%{y}<br>Province/territory_x=%{customdata[0]}<extra></extra>\",\"hovertext\":[\"Calgary Zone\",\"Central Zone\",\"Edmonton Zone\",\"Interior Health\",\"Interlake\\u2013Eastern Regional Health Authority\",\"Prairie Mountain Health\",\"Winnipeg Regional Health Authority\",\"Zone 2 (Saint John Area)\",\"Zone 4 (Edmundston Area)\",\"Zone 6 (Bathurst Area)\",\"Central Health\",\"Western Health\",\"Central Zone\",\"Eastern Zone\",\"Champlain LHIN\",\"Hamilton Niagara Haldimand Brant LHIN\",\"North East LHIN\",\"North Simcoe Muskoka LHIN\",\"North West LHIN\",\"South East LHIN\",\"South West LHIN\",\"Waterloo Wellington LHIN\",\"Health PEI\",\"Abitibi-T\\u00e9miscamingue Region\",\"Lanaudi\\u00e8re Region\",\"Laurentides Region\",\"Laval Region\",\"Mont\\u00e9r\\u00e9gie Region\",\"Outaouais Region\",\"Regina Qu\\u2019Appelle Health Region\",\"Saskatoon Health Region\"],\"legendgroup\":\"1\",\"marker\":{\"color\":\"#636efa\",\"symbol\":\"circle\"},\"mode\":\"markers\",\"name\":\"1\",\"orientation\":\"v\",\"showlegend\":true,\"x\":[301.0,727.0,424.0,251.0,0.0,375.0,176.0,325.0,529.0,484.0,306.0,350.0,419.0,380.0,291.0,333.0,557.0,745.0,457.0,375.0,517.0,560.0,650.0,893.0,580.0,475.0,242.0,334.0,609.0,378.0,199.0],\"xaxis\":\"x\",\"y\":[183.0,73.0,173.0,199.0,141.0,85.0,218.0,98.0,106.0,126.0,138.0,143.0,204.0,104.0,197.0,111.0,83.0,89.0,127.0,152.0,154.0,101.0,92.0,162.0,168.0,92.0,125.0,139.0,101.0,92.0,151.0],\"yaxis\":\"y\",\"type\":\"scatter\"},{\"customdata\":[[\"AB\"],[\"AB\"],[\"BC\"],[\"BC\"],[\"BC\"],[\"MB\"],[\"MB\"],[\"NB\"],[\"NB\"],[\"NB\"],[\"NL\"],[\"NS\"],[\"NS\"],[\"NT\"],[\"ON\"],[\"ON\"],[\"ON\"],[\"ON\"],[\"ON\"],[\"SK\"],[\"SK\"],[\"SK\"],[\"SK\"],[\"SK\"],[\"SK\"],[\"SK\"],[\"YT\"]],\"hovertemplate\":\"<b>%{hovertext}</b><br><br>labels=4<br>MHBed-to-100,000_LowPerceivedMH=%{x}<br>Psychiatrist-to-100,000_LowPerceivedMH=%{y}<br>Province/territory_x=%{customdata[0]}<extra></extra>\",\"hovertext\":[\"North Zone\",\"South Zone\",\"Fraser Health\",\"Island Health\",\"Northern Health\",\"Northern Health Region\",\"Southern Health \\u2014 Sant\\u00e9 Sud\",\"Zone 1 (Moncton Area)\",\"Zone 3 (Fredericton Area)\",\"Zone 7 (Miramichi Area)\",\"Labrador\\u2013Grenfell Health\",\"Northern Zone\",\"Western Zone\",\"N.W.T.\",\"Central East LHIN\",\"Central LHIN\",\"Central West LHIN\",\"Erie St. Clair LHIN\",\"Mississauga Halton LHIN\",\"Cypress Health Region\",\"Five Hills Health Region\",\"Heartland Health Region\",\"Kelsey Trail Health Region\",\"Prince Albert Parkland Health Region\",\"Sun Country Health Region\",\"Sunrise Health Region\",\"Yukon\"],\"legendgroup\":\"4\",\"marker\":{\"color\":\"#EF553B\",\"symbol\":\"circle\"},\"mode\":\"markers\",\"name\":\"4\",\"orientation\":\"v\",\"showlegend\":true,\"x\":[89.0,231.0,149.0,162.0,141.0,182.0,0.0,205.0,144.0,229.0,0.0,136.0,91.0,0.0,325.0,108.0,99.0,236.0,158.0,0.0,241.0,0.0,0.0,529.0,0.0,0.0,146.0],\"xaxis\":\"x\",\"y\":[38.0,76.0,42.0,42.0,68.0,41.0,45.0,102.0,110.0,38.0,62.0,56.0,70.0,54.0,69.0,93.0,37.0,55.0,97.0,112.0,80.0,0.0,0.0,54.0,73.0,97.0,29.0],\"yaxis\":\"y\",\"type\":\"scatter\"},{\"customdata\":[[\"BC\"],[\"NL\"],[\"QC\"],[\"QC\"],[\"QC\"],[\"QC\"],[\"QC\"],[\"QC\"],[\"QC\"]],\"hovertemplate\":\"<b>%{hovertext}</b><br><br>labels=0<br>MHBed-to-100,000_LowPerceivedMH=%{x}<br>Psychiatrist-to-100,000_LowPerceivedMH=%{y}<br>Province/territory_x=%{customdata[0]}<extra></extra>\",\"hovertext\":[\"Vancouver Coastal Health\",\"Eastern Health\",\"Bas-Saint-Laurent Region\",\"C\\u00f4te-Nord Region\",\"Chaudi\\u00e8re-Appalaches Region\",\"Estrie Region\",\"Mauricie et Centre-du-Qu\\u00e9bec Region\",\"Montr\\u00e9al Region\",\"Saguenay\\u2013Lac-Saint-Jean Region\"],\"legendgroup\":\"0\",\"marker\":{\"color\":\"#00cc96\",\"symbol\":\"circle\"},\"mode\":\"markers\",\"name\":\"0\",\"orientation\":\"v\",\"showlegend\":true,\"x\":[276.0,620.0,661.0,848.0,901.0,624.0,842.0,729.0,1232.0],\"xaxis\":\"x\",\"y\":[377.0,247.0,301.0,257.0,331.0,297.0,288.0,320.0,291.0],\"yaxis\":\"y\",\"type\":\"scatter\"},{\"customdata\":[[\"NB\"],[\"SK\"]],\"hovertemplate\":\"<b>%{hovertext}</b><br><br>labels=2<br>MHBed-to-100,000_LowPerceivedMH=%{x}<br>Psychiatrist-to-100,000_LowPerceivedMH=%{y}<br>Province/territory_x=%{customdata[0]}<extra></extra>\",\"hovertext\":[\"Zone 5 (Campbellton Area)\",\"Prairie North Health Region\"],\"legendgroup\":\"2\",\"marker\":{\"color\":\"#ab63fa\",\"symbol\":\"circle\"},\"mode\":\"markers\",\"name\":\"2\",\"orientation\":\"v\",\"showlegend\":true,\"x\":[3129.0,4160.0],\"xaxis\":\"x\",\"y\":[185.0,59.0],\"yaxis\":\"y\",\"type\":\"scatter\"},{\"customdata\":[[\"ON\"],[\"QC\"],[\"QC\"]],\"hovertemplate\":\"<b>%{hovertext}</b><br><br>labels=3<br>MHBed-to-100,000_LowPerceivedMH=%{x}<br>Psychiatrist-to-100,000_LowPerceivedMH=%{y}<br>Province/territory_x=%{customdata[0]}<extra></extra>\",\"hovertext\":[\"Toronto Central LHIN\",\"Capitale-Nationale Region\",\"Gasp\\u00e9sie\\u2013\\u00celes-de-la-Madeleine Region\"],\"legendgroup\":\"3\",\"marker\":{\"color\":\"#FFA15A\",\"symbol\":\"circle\"},\"mode\":\"markers\",\"name\":\"3\",\"orientation\":\"v\",\"showlegend\":true,\"x\":[626.0,1153.0,1582.0],\"xaxis\":\"x\",\"y\":[616.0,664.0,719.0],\"yaxis\":\"y\",\"type\":\"scatter\"}],                        {\"template\":{\"data\":{\"histogram2dcontour\":[{\"type\":\"histogram2dcontour\",\"colorbar\":{\"outlinewidth\":0,\"ticks\":\"\"},\"colorscale\":[[0.0,\"#0d0887\"],[0.1111111111111111,\"#46039f\"],[0.2222222222222222,\"#7201a8\"],[0.3333333333333333,\"#9c179e\"],[0.4444444444444444,\"#bd3786\"],[0.5555555555555556,\"#d8576b\"],[0.6666666666666666,\"#ed7953\"],[0.7777777777777778,\"#fb9f3a\"],[0.8888888888888888,\"#fdca26\"],[1.0,\"#f0f921\"]]}],\"choropleth\":[{\"type\":\"choropleth\",\"colorbar\":{\"outlinewidth\":0,\"ticks\":\"\"}}],\"histogram2d\":[{\"type\":\"histogram2d\",\"colorbar\":{\"outlinewidth\":0,\"ticks\":\"\"},\"colorscale\":[[0.0,\"#0d0887\"],[0.1111111111111111,\"#46039f\"],[0.2222222222222222,\"#7201a8\"],[0.3333333333333333,\"#9c179e\"],[0.4444444444444444,\"#bd3786\"],[0.5555555555555556,\"#d8576b\"],[0.6666666666666666,\"#ed7953\"],[0.7777777777777778,\"#fb9f3a\"],[0.8888888888888888,\"#fdca26\"],[1.0,\"#f0f921\"]]}],\"heatmap\":[{\"type\":\"heatmap\",\"colorbar\":{\"outlinewidth\":0,\"ticks\":\"\"},\"colorscale\":[[0.0,\"#0d0887\"],[0.1111111111111111,\"#46039f\"],[0.2222222222222222,\"#7201a8\"],[0.3333333333333333,\"#9c179e\"],[0.4444444444444444,\"#bd3786\"],[0.5555555555555556,\"#d8576b\"],[0.6666666666666666,\"#ed7953\"],[0.7777777777777778,\"#fb9f3a\"],[0.8888888888888888,\"#fdca26\"],[1.0,\"#f0f921\"]]}],\"heatmapgl\":[{\"type\":\"heatmapgl\",\"colorbar\":{\"outlinewidth\":0,\"ticks\":\"\"},\"colorscale\":[[0.0,\"#0d0887\"],[0.1111111111111111,\"#46039f\"],[0.2222222222222222,\"#7201a8\"],[0.3333333333333333,\"#9c179e\"],[0.4444444444444444,\"#bd3786\"],[0.5555555555555556,\"#d8576b\"],[0.6666666666666666,\"#ed7953\"],[0.7777777777777778,\"#fb9f3a\"],[0.8888888888888888,\"#fdca26\"],[1.0,\"#f0f921\"]]}],\"contourcarpet\":[{\"type\":\"contourcarpet\",\"colorbar\":{\"outlinewidth\":0,\"ticks\":\"\"}}],\"contour\":[{\"type\":\"contour\",\"colorbar\":{\"outlinewidth\":0,\"ticks\":\"\"},\"colorscale\":[[0.0,\"#0d0887\"],[0.1111111111111111,\"#46039f\"],[0.2222222222222222,\"#7201a8\"],[0.3333333333333333,\"#9c179e\"],[0.4444444444444444,\"#bd3786\"],[0.5555555555555556,\"#d8576b\"],[0.6666666666666666,\"#ed7953\"],[0.7777777777777778,\"#fb9f3a\"],[0.8888888888888888,\"#fdca26\"],[1.0,\"#f0f921\"]]}],\"surface\":[{\"type\":\"surface\",\"colorbar\":{\"outlinewidth\":0,\"ticks\":\"\"},\"colorscale\":[[0.0,\"#0d0887\"],[0.1111111111111111,\"#46039f\"],[0.2222222222222222,\"#7201a8\"],[0.3333333333333333,\"#9c179e\"],[0.4444444444444444,\"#bd3786\"],[0.5555555555555556,\"#d8576b\"],[0.6666666666666666,\"#ed7953\"],[0.7777777777777778,\"#fb9f3a\"],[0.8888888888888888,\"#fdca26\"],[1.0,\"#f0f921\"]]}],\"mesh3d\":[{\"type\":\"mesh3d\",\"colorbar\":{\"outlinewidth\":0,\"ticks\":\"\"}}],\"scatter\":[{\"fillpattern\":{\"fillmode\":\"overlay\",\"size\":10,\"solidity\":0.2},\"type\":\"scatter\"}],\"parcoords\":[{\"type\":\"parcoords\",\"line\":{\"colorbar\":{\"outlinewidth\":0,\"ticks\":\"\"}}}],\"scatterpolargl\":[{\"type\":\"scatterpolargl\",\"marker\":{\"colorbar\":{\"outlinewidth\":0,\"ticks\":\"\"}}}],\"bar\":[{\"error_x\":{\"color\":\"#2a3f5f\"},\"error_y\":{\"color\":\"#2a3f5f\"},\"marker\":{\"line\":{\"color\":\"#E5ECF6\",\"width\":0.5},\"pattern\":{\"fillmode\":\"overlay\",\"size\":10,\"solidity\":0.2}},\"type\":\"bar\"}],\"scattergeo\":[{\"type\":\"scattergeo\",\"marker\":{\"colorbar\":{\"outlinewidth\":0,\"ticks\":\"\"}}}],\"scatterpolar\":[{\"type\":\"scatterpolar\",\"marker\":{\"colorbar\":{\"outlinewidth\":0,\"ticks\":\"\"}}}],\"histogram\":[{\"marker\":{\"pattern\":{\"fillmode\":\"overlay\",\"size\":10,\"solidity\":0.2}},\"type\":\"histogram\"}],\"scattergl\":[{\"type\":\"scattergl\",\"marker\":{\"colorbar\":{\"outlinewidth\":0,\"ticks\":\"\"}}}],\"scatter3d\":[{\"type\":\"scatter3d\",\"line\":{\"colorbar\":{\"outlinewidth\":0,\"ticks\":\"\"}},\"marker\":{\"colorbar\":{\"outlinewidth\":0,\"ticks\":\"\"}}}],\"scattermapbox\":[{\"type\":\"scattermapbox\",\"marker\":{\"colorbar\":{\"outlinewidth\":0,\"ticks\":\"\"}}}],\"scatterternary\":[{\"type\":\"scatterternary\",\"marker\":{\"colorbar\":{\"outlinewidth\":0,\"ticks\":\"\"}}}],\"scattercarpet\":[{\"type\":\"scattercarpet\",\"marker\":{\"colorbar\":{\"outlinewidth\":0,\"ticks\":\"\"}}}],\"carpet\":[{\"aaxis\":{\"endlinecolor\":\"#2a3f5f\",\"gridcolor\":\"white\",\"linecolor\":\"white\",\"minorgridcolor\":\"white\",\"startlinecolor\":\"#2a3f5f\"},\"baxis\":{\"endlinecolor\":\"#2a3f5f\",\"gridcolor\":\"white\",\"linecolor\":\"white\",\"minorgridcolor\":\"white\",\"startlinecolor\":\"#2a3f5f\"},\"type\":\"carpet\"}],\"table\":[{\"cells\":{\"fill\":{\"color\":\"#EBF0F8\"},\"line\":{\"color\":\"white\"}},\"header\":{\"fill\":{\"color\":\"#C8D4E3\"},\"line\":{\"color\":\"white\"}},\"type\":\"table\"}],\"barpolar\":[{\"marker\":{\"line\":{\"color\":\"#E5ECF6\",\"width\":0.5},\"pattern\":{\"fillmode\":\"overlay\",\"size\":10,\"solidity\":0.2}},\"type\":\"barpolar\"}],\"pie\":[{\"automargin\":true,\"type\":\"pie\"}]},\"layout\":{\"autotypenumbers\":\"strict\",\"colorway\":[\"#636efa\",\"#EF553B\",\"#00cc96\",\"#ab63fa\",\"#FFA15A\",\"#19d3f3\",\"#FF6692\",\"#B6E880\",\"#FF97FF\",\"#FECB52\"],\"font\":{\"color\":\"#2a3f5f\"},\"hovermode\":\"closest\",\"hoverlabel\":{\"align\":\"left\"},\"paper_bgcolor\":\"white\",\"plot_bgcolor\":\"#E5ECF6\",\"polar\":{\"bgcolor\":\"#E5ECF6\",\"angularaxis\":{\"gridcolor\":\"white\",\"linecolor\":\"white\",\"ticks\":\"\"},\"radialaxis\":{\"gridcolor\":\"white\",\"linecolor\":\"white\",\"ticks\":\"\"}},\"ternary\":{\"bgcolor\":\"#E5ECF6\",\"aaxis\":{\"gridcolor\":\"white\",\"linecolor\":\"white\",\"ticks\":\"\"},\"baxis\":{\"gridcolor\":\"white\",\"linecolor\":\"white\",\"ticks\":\"\"},\"caxis\":{\"gridcolor\":\"white\",\"linecolor\":\"white\",\"ticks\":\"\"}},\"coloraxis\":{\"colorbar\":{\"outlinewidth\":0,\"ticks\":\"\"}},\"colorscale\":{\"sequential\":[[0.0,\"#0d0887\"],[0.1111111111111111,\"#46039f\"],[0.2222222222222222,\"#7201a8\"],[0.3333333333333333,\"#9c179e\"],[0.4444444444444444,\"#bd3786\"],[0.5555555555555556,\"#d8576b\"],[0.6666666666666666,\"#ed7953\"],[0.7777777777777778,\"#fb9f3a\"],[0.8888888888888888,\"#fdca26\"],[1.0,\"#f0f921\"]],\"sequentialminus\":[[0.0,\"#0d0887\"],[0.1111111111111111,\"#46039f\"],[0.2222222222222222,\"#7201a8\"],[0.3333333333333333,\"#9c179e\"],[0.4444444444444444,\"#bd3786\"],[0.5555555555555556,\"#d8576b\"],[0.6666666666666666,\"#ed7953\"],[0.7777777777777778,\"#fb9f3a\"],[0.8888888888888888,\"#fdca26\"],[1.0,\"#f0f921\"]],\"diverging\":[[0,\"#8e0152\"],[0.1,\"#c51b7d\"],[0.2,\"#de77ae\"],[0.3,\"#f1b6da\"],[0.4,\"#fde0ef\"],[0.5,\"#f7f7f7\"],[0.6,\"#e6f5d0\"],[0.7,\"#b8e186\"],[0.8,\"#7fbc41\"],[0.9,\"#4d9221\"],[1,\"#276419\"]]},\"xaxis\":{\"gridcolor\":\"white\",\"linecolor\":\"white\",\"ticks\":\"\",\"title\":{\"standoff\":15},\"zerolinecolor\":\"white\",\"automargin\":true,\"zerolinewidth\":2},\"yaxis\":{\"gridcolor\":\"white\",\"linecolor\":\"white\",\"ticks\":\"\",\"title\":{\"standoff\":15},\"zerolinecolor\":\"white\",\"automargin\":true,\"zerolinewidth\":2},\"scene\":{\"xaxis\":{\"backgroundcolor\":\"#E5ECF6\",\"gridcolor\":\"white\",\"linecolor\":\"white\",\"showbackground\":true,\"ticks\":\"\",\"zerolinecolor\":\"white\",\"gridwidth\":2},\"yaxis\":{\"backgroundcolor\":\"#E5ECF6\",\"gridcolor\":\"white\",\"linecolor\":\"white\",\"showbackground\":true,\"ticks\":\"\",\"zerolinecolor\":\"white\",\"gridwidth\":2},\"zaxis\":{\"backgroundcolor\":\"#E5ECF6\",\"gridcolor\":\"white\",\"linecolor\":\"white\",\"showbackground\":true,\"ticks\":\"\",\"zerolinecolor\":\"white\",\"gridwidth\":2}},\"shapedefaults\":{\"line\":{\"color\":\"#2a3f5f\"}},\"annotationdefaults\":{\"arrowcolor\":\"#2a3f5f\",\"arrowhead\":0,\"arrowwidth\":1},\"geo\":{\"bgcolor\":\"white\",\"landcolor\":\"#E5ECF6\",\"subunitcolor\":\"white\",\"showland\":true,\"showlakes\":true,\"lakecolor\":\"white\"},\"title\":{\"x\":0.05},\"mapbox\":{\"style\":\"light\"}}},\"xaxis\":{\"anchor\":\"y\",\"domain\":[0.0,1.0],\"title\":{\"text\":\"MHBed-to-100,000_LowPerceivedMH\"}},\"yaxis\":{\"anchor\":\"x\",\"domain\":[0.0,1.0],\"title\":{\"text\":\"Psychiatrist-to-100,000_LowPerceivedMH\"}},\"legend\":{\"title\":{\"text\":\"labels\"},\"tracegroupgap\":0},\"margin\":{\"t\":60}},                        {\"responsive\": true}                    ).then(function(){\n",
       "                            \n",
       "var gd = document.getElementById('0bc959f1-2868-4b27-b151-bbb638abe932');\n",
       "var x = new MutationObserver(function (mutations, observer) {{\n",
       "        var display = window.getComputedStyle(gd).display;\n",
       "        if (!display || display === 'none') {{\n",
       "            console.log([gd, 'removed!']);\n",
       "            Plotly.purge(gd);\n",
       "            observer.disconnect();\n",
       "        }}\n",
       "}});\n",
       "\n",
       "// Listen for the removal of the full notebook cells\n",
       "var notebookContainer = gd.closest('#notebook-container');\n",
       "if (notebookContainer) {{\n",
       "    x.observe(notebookContainer, {childList: true});\n",
       "}}\n",
       "\n",
       "// Listen for the clearing of the current output cell\n",
       "var outputEl = gd.closest('.output');\n",
       "if (outputEl) {{\n",
       "    x.observe(outputEl, {childList: true});\n",
       "}}\n",
       "\n",
       "                        })                };                });            </script>        </div>"
      ]
     },
     "metadata": {},
     "output_type": "display_data"
    }
   ],
   "source": [
    "import plotly.express as px\n",
    "\n",
    "gmm6 = mixture.GaussianMixture(n_components = 5, max_iter = 1000, \n",
    "                               random_state = 1234, covariance_type = 'tied')\n",
    "gmm6.fit(X1)\n",
    "labels=gmm6.predict(X1)\n",
    "X16 = X.copy()\n",
    "\n",
    "X16['labels'] = labels\n",
    "X16['labels'] = X16['labels'].apply(str)\n",
    "\n",
    "\n",
    "fig = px.scatter(X16,\n",
    "                 y= 'Psychiatrist-to-100,000_LowPerceivedMH', \n",
    "                 x= 'MHBed-to-100,000_LowPerceivedMH',\n",
    "#                 size=\"regular_provider_p\", \n",
    "                 color=\"labels\",\n",
    "                 hover_name=\"Health region_x\",\n",
    "                 hover_data=['Province/territory_x'],\n",
    "                 size_max=30)\n",
    "fig.show()\n",
    "\n"
   ]
  },
  {
   "cell_type": "code",
   "execution_count": 37,
   "id": "88be8423",
   "metadata": {},
   "outputs": [
    {
     "data": {
      "text/html": [
       "<div>\n",
       "<style scoped>\n",
       "    .dataframe tbody tr th:only-of-type {\n",
       "        vertical-align: middle;\n",
       "    }\n",
       "\n",
       "    .dataframe tbody tr th {\n",
       "        vertical-align: top;\n",
       "    }\n",
       "\n",
       "    .dataframe thead th {\n",
       "        text-align: right;\n",
       "    }\n",
       "</style>\n",
       "<table border=\"1\" class=\"dataframe\">\n",
       "  <thead>\n",
       "    <tr style=\"text-align: right;\">\n",
       "      <th></th>\n",
       "      <th>index</th>\n",
       "      <th>prob_groupA</th>\n",
       "      <th>prob_groupB</th>\n",
       "      <th>prob_groupC</th>\n",
       "      <th>prob_groupD</th>\n",
       "      <th>prob_groupE</th>\n",
       "      <th>prob_max</th>\n",
       "    </tr>\n",
       "  </thead>\n",
       "  <tbody>\n",
       "    <tr>\n",
       "      <th>0</th>\n",
       "      <td>0</td>\n",
       "      <td>5.924680e-04</td>\n",
       "      <td>0.980757</td>\n",
       "      <td>1.068318e-53</td>\n",
       "      <td>7.990383e-39</td>\n",
       "      <td>0.018651</td>\n",
       "      <td>0.980757</td>\n",
       "    </tr>\n",
       "    <tr>\n",
       "      <th>1</th>\n",
       "      <td>1</td>\n",
       "      <td>9.492810e-08</td>\n",
       "      <td>0.829510</td>\n",
       "      <td>4.711820e-42</td>\n",
       "      <td>6.851836e-52</td>\n",
       "      <td>0.170490</td>\n",
       "      <td>0.829510</td>\n",
       "    </tr>\n",
       "    <tr>\n",
       "      <th>2</th>\n",
       "      <td>2</td>\n",
       "      <td>5.843947e-04</td>\n",
       "      <td>0.985258</td>\n",
       "      <td>4.542081e-50</td>\n",
       "      <td>3.009607e-39</td>\n",
       "      <td>0.014158</td>\n",
       "      <td>0.985258</td>\n",
       "    </tr>\n",
       "    <tr>\n",
       "      <th>3</th>\n",
       "      <td>3</td>\n",
       "      <td>1.618441e-13</td>\n",
       "      <td>0.023352</td>\n",
       "      <td>2.187565e-63</td>\n",
       "      <td>1.654069e-64</td>\n",
       "      <td>0.976648</td>\n",
       "      <td>0.976648</td>\n",
       "    </tr>\n",
       "    <tr>\n",
       "      <th>4</th>\n",
       "      <td>4</td>\n",
       "      <td>4.195151e-10</td>\n",
       "      <td>0.230193</td>\n",
       "      <td>1.187745e-57</td>\n",
       "      <td>1.961405e-56</td>\n",
       "      <td>0.769807</td>\n",
       "      <td>0.769807</td>\n",
       "    </tr>\n",
       "    <tr>\n",
       "      <th>...</th>\n",
       "      <td>...</td>\n",
       "      <td>...</td>\n",
       "      <td>...</td>\n",
       "      <td>...</td>\n",
       "      <td>...</td>\n",
       "      <td>...</td>\n",
       "      <td>...</td>\n",
       "    </tr>\n",
       "    <tr>\n",
       "      <th>67</th>\n",
       "      <td>67</td>\n",
       "      <td>2.474718e-08</td>\n",
       "      <td>0.591544</td>\n",
       "      <td>1.353570e-52</td>\n",
       "      <td>2.918600e-52</td>\n",
       "      <td>0.408456</td>\n",
       "      <td>0.591544</td>\n",
       "    </tr>\n",
       "    <tr>\n",
       "      <th>68</th>\n",
       "      <td>68</td>\n",
       "      <td>5.673521e-06</td>\n",
       "      <td>0.874202</td>\n",
       "      <td>3.316075e-57</td>\n",
       "      <td>1.116460e-44</td>\n",
       "      <td>0.125792</td>\n",
       "      <td>0.874202</td>\n",
       "    </tr>\n",
       "    <tr>\n",
       "      <th>69</th>\n",
       "      <td>69</td>\n",
       "      <td>1.014281e-11</td>\n",
       "      <td>0.062867</td>\n",
       "      <td>2.861147e-65</td>\n",
       "      <td>1.585768e-59</td>\n",
       "      <td>0.937133</td>\n",
       "      <td>0.937133</td>\n",
       "    </tr>\n",
       "    <tr>\n",
       "      <th>70</th>\n",
       "      <td>70</td>\n",
       "      <td>3.954189e-10</td>\n",
       "      <td>0.163177</td>\n",
       "      <td>1.378006e-64</td>\n",
       "      <td>1.916403e-55</td>\n",
       "      <td>0.836823</td>\n",
       "      <td>0.836823</td>\n",
       "    </tr>\n",
       "    <tr>\n",
       "      <th>71</th>\n",
       "      <td>71</td>\n",
       "      <td>9.206469e-14</td>\n",
       "      <td>0.021931</td>\n",
       "      <td>8.799392e-62</td>\n",
       "      <td>2.121261e-65</td>\n",
       "      <td>0.978069</td>\n",
       "      <td>0.978069</td>\n",
       "    </tr>\n",
       "  </tbody>\n",
       "</table>\n",
       "<p>72 rows × 7 columns</p>\n",
       "</div>"
      ],
      "text/plain": [
       "    index   prob_groupA  prob_groupB   prob_groupC   prob_groupD  prob_groupE  \\\n",
       "0       0  5.924680e-04     0.980757  1.068318e-53  7.990383e-39     0.018651   \n",
       "1       1  9.492810e-08     0.829510  4.711820e-42  6.851836e-52     0.170490   \n",
       "2       2  5.843947e-04     0.985258  4.542081e-50  3.009607e-39     0.014158   \n",
       "3       3  1.618441e-13     0.023352  2.187565e-63  1.654069e-64     0.976648   \n",
       "4       4  4.195151e-10     0.230193  1.187745e-57  1.961405e-56     0.769807   \n",
       "..    ...           ...          ...           ...           ...          ...   \n",
       "67     67  2.474718e-08     0.591544  1.353570e-52  2.918600e-52     0.408456   \n",
       "68     68  5.673521e-06     0.874202  3.316075e-57  1.116460e-44     0.125792   \n",
       "69     69  1.014281e-11     0.062867  2.861147e-65  1.585768e-59     0.937133   \n",
       "70     70  3.954189e-10     0.163177  1.378006e-64  1.916403e-55     0.836823   \n",
       "71     71  9.206469e-14     0.021931  8.799392e-62  2.121261e-65     0.978069   \n",
       "\n",
       "    prob_max  \n",
       "0   0.980757  \n",
       "1   0.829510  \n",
       "2   0.985258  \n",
       "3   0.976648  \n",
       "4   0.769807  \n",
       "..       ...  \n",
       "67  0.591544  \n",
       "68  0.874202  \n",
       "69  0.937133  \n",
       "70  0.836823  \n",
       "71  0.978069  \n",
       "\n",
       "[72 rows x 7 columns]"
      ]
     },
     "execution_count": 37,
     "metadata": {},
     "output_type": "execute_result"
    }
   ],
   "source": [
    "probs=gmm6.predict_proba(X1)\n",
    "probs = pd.DataFrame(probs, columns=['prob_groupA', 'prob_groupB', 'prob_groupC', 'prob_groupD', 'prob_groupE',\n",
    "                                    ])\n",
    "probs = probs.reset_index()\n",
    "probs['prob_max'] = probs[['prob_groupA', 'prob_groupB', 'prob_groupC', 'prob_groupD', 'prob_groupE']].max(axis = 1)\n",
    "probs"
   ]
  },
  {
   "cell_type": "code",
   "execution_count": 38,
   "id": "ff03b6d3",
   "metadata": {},
   "outputs": [],
   "source": [
    "X16 = X16.reset_index()"
   ]
  },
  {
   "cell_type": "code",
   "execution_count": 39,
   "id": "811c17b6",
   "metadata": {},
   "outputs": [
    {
     "data": {
      "text/html": [
       "<div>\n",
       "<style scoped>\n",
       "    .dataframe tbody tr th:only-of-type {\n",
       "        vertical-align: middle;\n",
       "    }\n",
       "\n",
       "    .dataframe tbody tr th {\n",
       "        vertical-align: top;\n",
       "    }\n",
       "\n",
       "    .dataframe thead th {\n",
       "        text-align: right;\n",
       "    }\n",
       "</style>\n",
       "<table border=\"1\" class=\"dataframe\">\n",
       "  <thead>\n",
       "    <tr style=\"text-align: right;\">\n",
       "      <th></th>\n",
       "      <th>index</th>\n",
       "      <th>HR_UID</th>\n",
       "      <th>Health region_x</th>\n",
       "      <th>Province/territory_x</th>\n",
       "      <th>MHBed-to-100,000_LowPerceivedMH</th>\n",
       "      <th>Psychiatrist-to-100,000_LowPerceivedMH</th>\n",
       "      <th>labels</th>\n",
       "      <th>index</th>\n",
       "      <th>prob_groupA</th>\n",
       "      <th>prob_groupB</th>\n",
       "      <th>prob_groupC</th>\n",
       "      <th>prob_groupD</th>\n",
       "      <th>prob_groupE</th>\n",
       "      <th>prob_max</th>\n",
       "    </tr>\n",
       "  </thead>\n",
       "  <tbody>\n",
       "    <tr>\n",
       "      <th>0</th>\n",
       "      <td>0</td>\n",
       "      <td>4832.0</td>\n",
       "      <td>Calgary Zone</td>\n",
       "      <td>AB</td>\n",
       "      <td>301.0</td>\n",
       "      <td>183.0</td>\n",
       "      <td>1</td>\n",
       "      <td>0</td>\n",
       "      <td>5.924680e-04</td>\n",
       "      <td>0.980757</td>\n",
       "      <td>1.068318e-53</td>\n",
       "      <td>7.990383e-39</td>\n",
       "      <td>0.018651</td>\n",
       "      <td>0.980757</td>\n",
       "    </tr>\n",
       "    <tr>\n",
       "      <th>1</th>\n",
       "      <td>1</td>\n",
       "      <td>4833.0</td>\n",
       "      <td>Central Zone</td>\n",
       "      <td>AB</td>\n",
       "      <td>727.0</td>\n",
       "      <td>73.0</td>\n",
       "      <td>1</td>\n",
       "      <td>1</td>\n",
       "      <td>9.492810e-08</td>\n",
       "      <td>0.829510</td>\n",
       "      <td>4.711820e-42</td>\n",
       "      <td>6.851836e-52</td>\n",
       "      <td>0.170490</td>\n",
       "      <td>0.829510</td>\n",
       "    </tr>\n",
       "    <tr>\n",
       "      <th>2</th>\n",
       "      <td>2</td>\n",
       "      <td>4834.0</td>\n",
       "      <td>Edmonton Zone</td>\n",
       "      <td>AB</td>\n",
       "      <td>424.0</td>\n",
       "      <td>173.0</td>\n",
       "      <td>1</td>\n",
       "      <td>2</td>\n",
       "      <td>5.843947e-04</td>\n",
       "      <td>0.985258</td>\n",
       "      <td>4.542081e-50</td>\n",
       "      <td>3.009607e-39</td>\n",
       "      <td>0.014158</td>\n",
       "      <td>0.985258</td>\n",
       "    </tr>\n",
       "    <tr>\n",
       "      <th>3</th>\n",
       "      <td>3</td>\n",
       "      <td>4835.0</td>\n",
       "      <td>North Zone</td>\n",
       "      <td>AB</td>\n",
       "      <td>89.0</td>\n",
       "      <td>38.0</td>\n",
       "      <td>4</td>\n",
       "      <td>3</td>\n",
       "      <td>1.618441e-13</td>\n",
       "      <td>0.023352</td>\n",
       "      <td>2.187565e-63</td>\n",
       "      <td>1.654069e-64</td>\n",
       "      <td>0.976648</td>\n",
       "      <td>0.976648</td>\n",
       "    </tr>\n",
       "    <tr>\n",
       "      <th>4</th>\n",
       "      <td>4</td>\n",
       "      <td>4831.0</td>\n",
       "      <td>South Zone</td>\n",
       "      <td>AB</td>\n",
       "      <td>231.0</td>\n",
       "      <td>76.0</td>\n",
       "      <td>4</td>\n",
       "      <td>4</td>\n",
       "      <td>4.195151e-10</td>\n",
       "      <td>0.230193</td>\n",
       "      <td>1.187745e-57</td>\n",
       "      <td>1.961405e-56</td>\n",
       "      <td>0.769807</td>\n",
       "      <td>0.769807</td>\n",
       "    </tr>\n",
       "  </tbody>\n",
       "</table>\n",
       "</div>"
      ],
      "text/plain": [
       "   index  HR_UID Health region_x Province/territory_x  \\\n",
       "0      0  4832.0    Calgary Zone                   AB   \n",
       "1      1  4833.0    Central Zone                   AB   \n",
       "2      2  4834.0   Edmonton Zone                   AB   \n",
       "3      3  4835.0      North Zone                   AB   \n",
       "4      4  4831.0      South Zone                   AB   \n",
       "\n",
       "   MHBed-to-100,000_LowPerceivedMH  Psychiatrist-to-100,000_LowPerceivedMH  \\\n",
       "0                            301.0                                   183.0   \n",
       "1                            727.0                                    73.0   \n",
       "2                            424.0                                   173.0   \n",
       "3                             89.0                                    38.0   \n",
       "4                            231.0                                    76.0   \n",
       "\n",
       "  labels  index   prob_groupA  prob_groupB   prob_groupC   prob_groupD  \\\n",
       "0      1      0  5.924680e-04     0.980757  1.068318e-53  7.990383e-39   \n",
       "1      1      1  9.492810e-08     0.829510  4.711820e-42  6.851836e-52   \n",
       "2      1      2  5.843947e-04     0.985258  4.542081e-50  3.009607e-39   \n",
       "3      4      3  1.618441e-13     0.023352  2.187565e-63  1.654069e-64   \n",
       "4      4      4  4.195151e-10     0.230193  1.187745e-57  1.961405e-56   \n",
       "\n",
       "   prob_groupE  prob_max  \n",
       "0     0.018651  0.980757  \n",
       "1     0.170490  0.829510  \n",
       "2     0.014158  0.985258  \n",
       "3     0.976648  0.976648  \n",
       "4     0.769807  0.769807  "
      ]
     },
     "execution_count": 39,
     "metadata": {},
     "output_type": "execute_result"
    }
   ],
   "source": [
    "X16 = pd.concat([X16, probs],  axis=1)\n",
    "X16.head()"
   ]
  },
  {
   "cell_type": "code",
   "execution_count": 40,
   "id": "13eb3a86",
   "metadata": {},
   "outputs": [
    {
     "data": {
      "text/html": [
       "<div>\n",
       "<style scoped>\n",
       "    .dataframe tbody tr th:only-of-type {\n",
       "        vertical-align: middle;\n",
       "    }\n",
       "\n",
       "    .dataframe tbody tr th {\n",
       "        vertical-align: top;\n",
       "    }\n",
       "\n",
       "    .dataframe thead th {\n",
       "        text-align: right;\n",
       "    }\n",
       "</style>\n",
       "<table border=\"1\" class=\"dataframe\">\n",
       "  <thead>\n",
       "    <tr style=\"text-align: right;\">\n",
       "      <th></th>\n",
       "      <th>index</th>\n",
       "      <th>HR_UID</th>\n",
       "      <th>Health region_x</th>\n",
       "      <th>Province/territory_x</th>\n",
       "      <th>MHBed-to-100,000_LowPerceivedMH</th>\n",
       "      <th>Psychiatrist-to-100,000_LowPerceivedMH</th>\n",
       "      <th>labels</th>\n",
       "      <th>index</th>\n",
       "      <th>prob_groupA</th>\n",
       "      <th>prob_groupB</th>\n",
       "      <th>prob_groupC</th>\n",
       "      <th>prob_groupD</th>\n",
       "      <th>prob_groupE</th>\n",
       "      <th>prob_max</th>\n",
       "    </tr>\n",
       "  </thead>\n",
       "  <tbody>\n",
       "    <tr>\n",
       "      <th>0</th>\n",
       "      <td>0</td>\n",
       "      <td>4832.0</td>\n",
       "      <td>Calgary Zone</td>\n",
       "      <td>AB</td>\n",
       "      <td>301.0</td>\n",
       "      <td>183.0</td>\n",
       "      <td>1</td>\n",
       "      <td>0</td>\n",
       "      <td>0.001</td>\n",
       "      <td>0.981</td>\n",
       "      <td>0.0</td>\n",
       "      <td>0.0</td>\n",
       "      <td>0.019</td>\n",
       "      <td>0.981</td>\n",
       "    </tr>\n",
       "    <tr>\n",
       "      <th>1</th>\n",
       "      <td>1</td>\n",
       "      <td>4833.0</td>\n",
       "      <td>Central Zone</td>\n",
       "      <td>AB</td>\n",
       "      <td>727.0</td>\n",
       "      <td>73.0</td>\n",
       "      <td>1</td>\n",
       "      <td>1</td>\n",
       "      <td>0.000</td>\n",
       "      <td>0.830</td>\n",
       "      <td>0.0</td>\n",
       "      <td>0.0</td>\n",
       "      <td>0.170</td>\n",
       "      <td>0.830</td>\n",
       "    </tr>\n",
       "    <tr>\n",
       "      <th>2</th>\n",
       "      <td>2</td>\n",
       "      <td>4834.0</td>\n",
       "      <td>Edmonton Zone</td>\n",
       "      <td>AB</td>\n",
       "      <td>424.0</td>\n",
       "      <td>173.0</td>\n",
       "      <td>1</td>\n",
       "      <td>2</td>\n",
       "      <td>0.001</td>\n",
       "      <td>0.985</td>\n",
       "      <td>0.0</td>\n",
       "      <td>0.0</td>\n",
       "      <td>0.014</td>\n",
       "      <td>0.985</td>\n",
       "    </tr>\n",
       "    <tr>\n",
       "      <th>3</th>\n",
       "      <td>3</td>\n",
       "      <td>4835.0</td>\n",
       "      <td>North Zone</td>\n",
       "      <td>AB</td>\n",
       "      <td>89.0</td>\n",
       "      <td>38.0</td>\n",
       "      <td>4</td>\n",
       "      <td>3</td>\n",
       "      <td>0.000</td>\n",
       "      <td>0.023</td>\n",
       "      <td>0.0</td>\n",
       "      <td>0.0</td>\n",
       "      <td>0.977</td>\n",
       "      <td>0.977</td>\n",
       "    </tr>\n",
       "    <tr>\n",
       "      <th>4</th>\n",
       "      <td>4</td>\n",
       "      <td>4831.0</td>\n",
       "      <td>South Zone</td>\n",
       "      <td>AB</td>\n",
       "      <td>231.0</td>\n",
       "      <td>76.0</td>\n",
       "      <td>4</td>\n",
       "      <td>4</td>\n",
       "      <td>0.000</td>\n",
       "      <td>0.230</td>\n",
       "      <td>0.0</td>\n",
       "      <td>0.0</td>\n",
       "      <td>0.770</td>\n",
       "      <td>0.770</td>\n",
       "    </tr>\n",
       "  </tbody>\n",
       "</table>\n",
       "</div>"
      ],
      "text/plain": [
       "   index  HR_UID Health region_x Province/territory_x  \\\n",
       "0      0  4832.0    Calgary Zone                   AB   \n",
       "1      1  4833.0    Central Zone                   AB   \n",
       "2      2  4834.0   Edmonton Zone                   AB   \n",
       "3      3  4835.0      North Zone                   AB   \n",
       "4      4  4831.0      South Zone                   AB   \n",
       "\n",
       "   MHBed-to-100,000_LowPerceivedMH  Psychiatrist-to-100,000_LowPerceivedMH  \\\n",
       "0                            301.0                                   183.0   \n",
       "1                            727.0                                    73.0   \n",
       "2                            424.0                                   173.0   \n",
       "3                             89.0                                    38.0   \n",
       "4                            231.0                                    76.0   \n",
       "\n",
       "  labels  index  prob_groupA  prob_groupB  prob_groupC  prob_groupD  \\\n",
       "0      1      0        0.001        0.981          0.0          0.0   \n",
       "1      1      1        0.000        0.830          0.0          0.0   \n",
       "2      1      2        0.001        0.985          0.0          0.0   \n",
       "3      4      3        0.000        0.023          0.0          0.0   \n",
       "4      4      4        0.000        0.230          0.0          0.0   \n",
       "\n",
       "   prob_groupE  prob_max  \n",
       "0        0.019     0.981  \n",
       "1        0.170     0.830  \n",
       "2        0.014     0.985  \n",
       "3        0.977     0.977  \n",
       "4        0.770     0.770  "
      ]
     },
     "execution_count": 40,
     "metadata": {},
     "output_type": "execute_result"
    }
   ],
   "source": [
    "X16 = X16.round(3)\n",
    "X16.head()"
   ]
  },
  {
   "cell_type": "code",
   "execution_count": 41,
   "id": "bad63188",
   "metadata": {},
   "outputs": [
    {
     "data": {
      "text/html": [
       "<div>\n",
       "<style scoped>\n",
       "    .dataframe tbody tr th:only-of-type {\n",
       "        vertical-align: middle;\n",
       "    }\n",
       "\n",
       "    .dataframe tbody tr th {\n",
       "        vertical-align: top;\n",
       "    }\n",
       "\n",
       "    .dataframe thead th {\n",
       "        text-align: right;\n",
       "    }\n",
       "</style>\n",
       "<table border=\"1\" class=\"dataframe\">\n",
       "  <thead>\n",
       "    <tr style=\"text-align: right;\">\n",
       "      <th></th>\n",
       "      <th>index</th>\n",
       "      <th>HR_UID</th>\n",
       "      <th>Health region_x</th>\n",
       "      <th>Province/territory_x</th>\n",
       "      <th>MHBed-to-100,000_LowPerceivedMH</th>\n",
       "      <th>Psychiatrist-to-100,000_LowPerceivedMH</th>\n",
       "      <th>labels</th>\n",
       "      <th>index</th>\n",
       "      <th>prob_groupA</th>\n",
       "      <th>prob_groupB</th>\n",
       "      <th>prob_groupC</th>\n",
       "      <th>prob_groupD</th>\n",
       "      <th>prob_groupE</th>\n",
       "      <th>prob_max</th>\n",
       "    </tr>\n",
       "  </thead>\n",
       "  <tbody>\n",
       "  </tbody>\n",
       "</table>\n",
       "</div>"
      ],
      "text/plain": [
       "Empty DataFrame\n",
       "Columns: [index, HR_UID, Health region_x, Province/territory_x, MHBed-to-100,000_LowPerceivedMH, Psychiatrist-to-100,000_LowPerceivedMH, labels, index, prob_groupA, prob_groupB, prob_groupC, prob_groupD, prob_groupE, prob_max]\n",
       "Index: []"
      ]
     },
     "execution_count": 41,
     "metadata": {},
     "output_type": "execute_result"
    }
   ],
   "source": [
    "\n",
    "X16.loc[X16.isnull().any(axis=1)]\n"
   ]
  },
  {
   "cell_type": "code",
   "execution_count": 42,
   "id": "fd8e1100",
   "metadata": {},
   "outputs": [],
   "source": [
    "X16.to_csv('GMM_MentalHealthcare_labels.csv')"
   ]
  },
  {
   "cell_type": "code",
   "execution_count": null,
   "id": "f7a83130",
   "metadata": {},
   "outputs": [],
   "source": []
  }
 ],
 "metadata": {
  "kernelspec": {
   "display_name": "Python 3 (ipykernel)",
   "language": "python",
   "name": "python3"
  },
  "language_info": {
   "codemirror_mode": {
    "name": "ipython",
    "version": 3
   },
   "file_extension": ".py",
   "mimetype": "text/x-python",
   "name": "python",
   "nbconvert_exporter": "python",
   "pygments_lexer": "ipython3",
   "version": "3.8.8"
  }
 },
 "nbformat": 4,
 "nbformat_minor": 5
}
