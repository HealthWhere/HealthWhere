{
 "cells": [
  {
   "cell_type": "code",
   "execution_count": null,
   "metadata": {},
   "outputs": [],
   "source": [
    "import pandas as pd\n",
    "import geopandas as gpd\n",
    "\n",
    "path_boundaries = \"C:/Users/kimng/Desktop/AI4Good Project/Unzip files/NewHybridRegionalHeathBoundaries.shp\"\n",
    "\n",
    "map_HR = gpd.read_file(path_boundaries, encoding=\"utf-8\")\n",
    "#map_HR.head()"
   ]
  },
  {
   "cell_type": "code",
   "execution_count": null,
   "metadata": {},
   "outputs": [],
   "source": [
    "map_filtered = map_HR.query(\"Province=='AB' | Province=='BC'| Province=='PE'| Province=='YT' | Province=='NT'| Province=='NU'| Province=='MB' \")\n",
    "map_filtered= map_filtered.to_crs('ESRI:102009')\n",
    "map_filtered[\"HR_UID\"] = pd.to_numeric(map_filtered[\"HR_UID\"])\n",
    "map_filtered = map_filtered[['HR_UID', 'geometry']]\n",
    "map_filtered.head()"
   ]
  },
  {
   "cell_type": "code",
   "execution_count": null,
   "metadata": {},
   "outputs": [],
   "source": [
    "import os\n",
    "beds = pd.read_csv(\"C:/Users/kimng/Desktop/AI4Good Project/beds_mapid - beds_mapid.csv\" )\n",
    "beds.head()"
   ]
  },
  {
   "cell_type": "code",
   "execution_count": null,
   "metadata": {},
   "outputs": [],
   "source": [
    "beds_map1 = gpd.GeoDataFrame(map_filtered.merge(beds,how='left',on=['HR_UID']),geometry='geometry')\n",
    "beds_map1.head()"
   ]
  },
  {
   "cell_type": "code",
   "execution_count": null,
   "metadata": {},
   "outputs": [],
   "source": [
    "beds_map1 = beds_map1.to_crs('ESRI:102009')"
   ]
  },
  {
   "cell_type": "code",
   "execution_count": null,
   "metadata": {},
   "outputs": [],
   "source": [
    "filepath_NS = \"C:/Users/kimng/Desktop/AI4Good Project/Unzip files/HR012b08z/HR012b08z.shp\"\n",
    "filepath_NB = \"C:/Users/kimng/Desktop/AI4Good Project/Unzip files/HR013b08/HR013b08.shp\" \n",
    "filepath_SK = \"C:/Users/kimng/Desktop/AI4Good Project/Unzip files/HR047b08/HR047b08.shp\" \n",
    "filepath_NL = \"C:/Users/kimng/Desktop/AI4Good Project/Unzip files/HR010b08/HR010b08.shp\" \n",
    "filepath_QC = \"C:/Users/kimng/Desktop/AI4Good Project/Unzip files/HR024b08/HR024b08.shp\" \n",
    "filepath_ON = \"C:/Users/kimng/Desktop/AI4Good Project/Unzip files/HR035b08/HR035b08.shp\" \n",
    "\n",
    "map_SK= gpd.read_file(filepath_SK, encoding=\"utf-8\")\n",
    "map_SK.rename(index=str, columns ={'HRUID2007':'HR_UID'}, inplace=True)\n",
    "map_NB= gpd.read_file(filepath_NB, encoding=\"utf-8\")\n",
    "map_NB.rename(index=str, columns ={'HRUID2007':'HR_UID'}, inplace=True)\n",
    "map_NS = gpd.read_file(filepath_NS, encoding=\"utf-8\")\n",
    "map_NS.rename(index=str, columns ={'HRUID2007':'HR_UID'}, inplace=True)\n",
    "map_NL= gpd.read_file(filepath_NL, encoding=\"utf-8\")\n",
    "map_NL.rename(index=str, columns ={'HRUID2007':'HR_UID'}, inplace=True)\n",
    "map_QC= gpd.read_file(filepath_QC, encoding=\"utf-8\")\n",
    "map_QC.rename(index=str, columns ={'HRUID2007':'HR_UID'}, inplace=True)\n",
    "map_ON= gpd.read_file(filepath_ON, encoding=\"utf-8\")\n",
    "map_ON.rename(index=str, columns ={'HRUID2007':'HR_UID'}, inplace=True)\n",
    "\n",
    "map_SK[\"HR_UID\"] = pd.to_numeric(map_SK[\"HR_UID\"])\n",
    "map_SK = map_SK[['HR_UID', 'geometry']]\n",
    "map_NB[\"HR_UID\"] = pd.to_numeric(map_NB[\"HR_UID\"])\n",
    "map_NB = map_NB[['HR_UID', 'geometry']]\n",
    "map_NS[\"HR_UID\"] = pd.to_numeric(map_NS[\"HR_UID\"])\n",
    "map_NS = map_NS[['HR_UID', 'geometry']]\n",
    "map_NL[\"HR_UID\"] = pd.to_numeric(map_NL[\"HR_UID\"])\n",
    "map_NL = map_NL[['HR_UID', 'geometry']]\n",
    "map_QC[\"HR_UID\"] = pd.to_numeric(map_QC[\"HR_UID\"])\n",
    "map_QC = map_QC[['HR_UID', 'geometry']]\n",
    "map_ON[\"HR_UID\"] = pd.to_numeric(map_ON[\"HR_UID\"])\n",
    "map_ON = map_ON[['HR_UID', 'geometry']]\n",
    "\n",
    "\n",
    "map2 = gpd.GeoDataFrame(pd.concat([map_NB, map_SK, map_NL, map_QC, map_ON, map_NS],ignore_index=True),  \n",
    "                        geometry='geometry')\n",
    "map2.head()"
   ]
  },
  {
   "cell_type": "code",
   "execution_count": null,
   "metadata": {},
   "outputs": [],
   "source": [
    "beds_map2 = gpd.GeoDataFrame(map2.merge(beds,how='left',on=['HR_UID']),geometry='geometry')\n",
    "beds_map2.head()"
   ]
  },
  {
   "cell_type": "code",
   "execution_count": null,
   "metadata": {},
   "outputs": [],
   "source": [
    "beds_map2 = beds_map2.to_crs('ESRI:102009')"
   ]
  },
  {
   "cell_type": "code",
   "execution_count": null,
   "metadata": {},
   "outputs": [],
   "source": [
    "beds_map1= beds_map1.reset_index()\n",
    "beds_map2= beds_map2.reset_index()\n",
    "beds_map_all = gpd.GeoDataFrame(pd.concat([beds_map1, beds_map2],ignore_index=True),  geometry='geometry')\n"
   ]
  },
  {
   "cell_type": "code",
   "execution_count": null,
   "metadata": {},
   "outputs": [],
   "source": [
    "beds_map_all['HR_UID'] = beds_map_all['HR_UID'].astype(str)\n",
    "beds_map_all = beds_map_all.set_index('HR_UID')\n",
    "beds_map_all.shape"
   ]
  },
  {
   "cell_type": "code",
   "execution_count": null,
   "metadata": {},
   "outputs": [],
   "source": [
    "import json\n",
    "beds_map.to_file(\"/Users/map100/AI4Good/github/HeCa/datasets/beds_map.geojson\", driver = \"GeoJSON\")\n",
    "with open(\"/Users/map100/AI4Good/github/HeCa/datasets/beds_map.geojson\") as beds_map_json:\n",
    "    beds_file = json.load(beds_map_json)\n",
    "    #beds_file = beds_file.reset_index(drop=True, inplace=True)\n",
    "#When creating the plot You’ll need to have a feature-id associated with each feature, so you can associate the GeoJSON-formatted geometry with the z attribute\n",
    "i=1\n",
    "for feature in beds_file[\"features\"]:\n",
    "    feature ['id'] = str(i).zfill(2)\n",
    "    i += 1\n"
   ]
  },
  {
   "cell_type": "code",
   "execution_count": null,
   "metadata": {},
   "outputs": [],
   "source": [
    "beds_map['HR_UID'] = beds_map['HR_UID'].astype(str)\n",
    "beds['HR_UID'] = beds['HR_UID'].astype(str)"
   ]
  },
  {
   "cell_type": "code",
   "execution_count": null,
   "metadata": {},
   "outputs": [],
   "source": [
    "beds_map.head()"
   ]
  },
  {
   "cell_type": "code",
   "execution_count": null,
   "metadata": {},
   "outputs": [],
   "source": [
    "import plotly.express as px\n",
    "\n",
    "fig = px.choropleth(beds_map_all, \n",
    "                    geojson=beds_map_all.geometry, \n",
    "                    locations=beds_map_all.index, \n",
    "                    color='Total‡',\n",
    "                    height=500,\n",
    "                    color_continuous_scale=\"Viridis\",\n",
    "                    hover_name=\"Health region\",\n",
    "                    hover_data = [\"Province/territory\", 'Total‡'])\n",
    "fig.update_layout(mapbox_style=\"open-street-map\")      \n",
    "fig.show()"
   ]
  },
  {
   "cell_type": "code",
   "execution_count": null,
   "metadata": {},
   "outputs": [],
   "source": [
    "#Plot the Choropleth map\n",
    "beds_map_all.plot(column = 'Total‡', #Assign numerical data column\n",
    "                      legend = True, #Decide to show legend or not\n",
    "                      figsize = [20,10],\n",
    "                      legend_kwds = {'label': \"Total Number of Available Hospital Beds\"}) #Name the legend"
   ]
  },
  {
   "cell_type": "code",
   "execution_count": null,
   "metadata": {},
   "outputs": [],
   "source": [
    "#### SAMPLE CODES\n",
    "# reading in the shapefile\n",
    "#fp = \"./data/\"\n",
    "#map_df = gpd.read_file(fp)\n",
    "#map_df.to_crs(pyproj.CRS.from_epsg(4326), inplace=True)\n",
    "\n",
    "#f = pd.read_csv(\"./data/loans_amount.csv\")\n",
    "# join the geodataframe with the cleaned up csv dataframe\n",
    "#merged = map_df.set_index('District').join(df.set_index('District'))\n",
    "#merged = merged.reset_index()\n",
    "#merged.head()\n",
    "\n",
    "#fig = px.choropleth(merged, geojson=merged.geometry, locations=merged.index, color=\"Amount\")\n",
    "#fig.update_geos(fitbounds=\"locations\", visible=False)\n",
    "\n",
    "#fig.show()"
   ]
  }
 ],
 "metadata": {
  "kernelspec": {
   "display_name": "Python 3 (ipykernel)",
   "language": "python",
   "name": "python3"
  },
  "language_info": {
   "codemirror_mode": {
    "name": "ipython",
    "version": 3
   },
   "file_extension": ".py",
   "mimetype": "text/x-python",
   "name": "python",
   "nbconvert_exporter": "python",
   "pygments_lexer": "ipython3",
   "version": "3.10.4"
  },
  "vscode": {
   "interpreter": {
    "hash": "8a66326af7bf2ee05e55e35b6fe9d30857c1e2b8993252a51382bb15a4c0fc16"
   }
  }
 },
 "nbformat": 4,
 "nbformat_minor": 2
}
