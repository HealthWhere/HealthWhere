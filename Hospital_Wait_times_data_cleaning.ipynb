{
  "cells": [
    {
      "cell_type": "markdown",
      "metadata": {
        "id": "uZDq1AvDH2xD"
      },
      "source": [
        "Importing the libraries and Mounting Google drive"
      ]
    },
    {
      "cell_type": "code",
      "execution_count": null,
      "metadata": {
        "colab": {
          "base_uri": "https://localhost:8080/"
        },
        "id": "eg59DU66GoIU",
        "outputId": "a161a7a6-0059-43eb-cf96-4ae977099ae3"
      },
      "outputs": [],
      "source": [
        "import pandas as pd\n",
        "import numpy as np\n",
        "from google.colab import drive\n",
        "\n",
        "drive.mount('/content/gdrive')"
      ]
    },
    {
      "cell_type": "code",
      "execution_count": null,
      "metadata": {
        "colab": {
          "base_uri": "https://localhost:8080/"
        },
        "id": "sGnEEYfd2ogU",
        "outputId": "54920bd1-922a-4bb9-a047-3782f3976577"
      },
      "outputs": [],
      "source": [
        "df_wait = pd.read_excel(\"/content/gdrive/MyDrive/AI4GOOD/wait-times.xlsx\", sheet_name=\"Wait times 2008 to 2021\",header = 2)"
      ]
    },
    {
      "cell_type": "code",
      "execution_count": null,
      "metadata": {
        "colab": {
          "base_uri": "https://localhost:8080/"
        },
        "id": "oNYyzoJ6_S4t",
        "outputId": "22a97655-875c-4087-96ed-4cd2643cc90d"
      },
      "outputs": [],
      "source": [
        "df_wait['Metric'].unique()"
      ]
    },
    {
      "cell_type": "code",
      "execution_count": null,
      "metadata": {
        "colab": {
          "base_uri": "https://localhost:8080/",
          "height": 206
        },
        "id": "f6SIOl4rnURm",
        "outputId": "3c22e6a1-749c-4753-a7d5-0a98b6947cbd"
      },
      "outputs": [],
      "source": [
        "# Selecting the year 2021 \n",
        "df_wait_2021 = df_wait[df_wait['Data year'] == 2021.0]\n",
        "df_wait_2021.head()"
      ]
    },
    {
      "cell_type": "code",
      "execution_count": null,
      "metadata": {
        "colab": {
          "base_uri": "https://localhost:8080/"
        },
        "id": "MjAX5G6spFaZ",
        "outputId": "047d2a6a-8a7a-4850-f6c3-12bab5492019"
      },
      "outputs": [],
      "source": [
        "df_wait_2021_provincial = df_wait_2021[::]\n",
        "df_wait_2021_provincial['Metric'].unique()"
      ]
    },
    {
      "cell_type": "code",
      "execution_count": null,
      "metadata": {
        "colab": {
          "base_uri": "https://localhost:8080/",
          "height": 206
        },
        "id": "c6kAIWajp20W",
        "outputId": "0c75f76e-f81c-4607-f7d2-39eb8cc5bdf1"
      },
      "outputs": [],
      "source": [
        "df_wait_2021_provincial['Region'].unique()\n",
        "df_wait_2021_provincial.head()"
      ]
    },
    {
      "cell_type": "code",
      "execution_count": null,
      "metadata": {
        "id": "C76wX9n_uJSZ"
      },
      "outputs": [],
      "source": [
        "df_wait_2021_provincial['Indicator result'] = pd.to_numeric(df_wait_2021_provincial['Indicator result'], errors = 'coerce')"
      ]
    },
    {
      "cell_type": "code",
      "execution_count": null,
      "metadata": {
        "colab": {
          "base_uri": "https://localhost:8080/"
        },
        "id": "mAlLe6fvvO_X",
        "outputId": "4797e6d1-03c1-4a9e-a15a-eb74c05b0319"
      },
      "outputs": [],
      "source": [
        "df_wait_2021_provincial['Result'] = np.where(df_wait_2021_provincial['Unit of measurement'].eq('Hours'),df_wait_2021_provincial['Indicator result']/24,df_wait_2021_provincial['Indicator result'])\n",
        "df_wait_2021_provincial['Metric'].unique()"
      ]
    },
    {
      "cell_type": "code",
      "execution_count": null,
      "metadata": {
        "colab": {
          "base_uri": "https://localhost:8080/"
        },
        "id": "pRZE_Znm9ibu",
        "outputId": "5ddf8390-eca6-44df-d990-8ade2f9f5532"
      },
      "outputs": [],
      "source": [
        "df_wait_2021_provincial[\"Unit of measurement\"].replace({'Hours':'Days'},inplace = True)\n",
        "\n",
        "df_wait_2021_provincial['Metric'].unique()"
      ]
    },
    {
      "cell_type": "code",
      "execution_count": null,
      "metadata": {
        "id": "qJ4q-ulpsUBP"
      },
      "outputs": [],
      "source": [
        "df_wait_2021_provincial.drop('Indicator result',inplace=True,axis = 1)"
      ]
    },
    {
      "cell_type": "code",
      "execution_count": null,
      "metadata": {
        "colab": {
          "base_uri": "https://localhost:8080/",
          "height": 206
        },
        "id": "cm3b3D7YwrGv",
        "outputId": "2ff70fbf-2151-4cc1-c61a-fcee2472aeb4"
      },
      "outputs": [],
      "source": [
        "df_wait_2021_provincial.drop('Data year',inplace=True,axis = 1)\n",
        "df_wait_2021_provincial.head()"
      ]
    },
    {
      "cell_type": "code",
      "execution_count": null,
      "metadata": {
        "colab": {
          "base_uri": "https://localhost:8080/",
          "height": 206
        },
        "id": "8Sod3rxrydqj",
        "outputId": "acda9246-a3a5-4d60-c6f0-7a7aace713fa"
      },
      "outputs": [],
      "source": [
        "df_wait_2021_provincial['Metric_Unit'] = df_wait_2021_provincial['Metric'].str.cat(df_wait_2021_provincial['Unit of measurement'],sep = '/')\n",
        "df_wait_2021_provincial.drop(['Metric','Unit of measurement'],inplace=True,axis = 1)\n",
        "df_wait_2021_provincial.head()"
      ]
    },
    {
      "cell_type": "code",
      "execution_count": null,
      "metadata": {
        "colab": {
          "base_uri": "https://localhost:8080/"
        },
        "id": "4_FUMYkh8g2l",
        "outputId": "c452d1b4-9833-4f82-a828-95a218ccc04d"
      },
      "outputs": [],
      "source": [
        "df_wait_2021_provincial['Metric_Unit'].unique()"
      ]
    },
    {
      "cell_type": "code",
      "execution_count": null,
      "metadata": {
        "colab": {
          "base_uri": "https://localhost:8080/"
        },
        "id": "5-LKicSLEC1H",
        "outputId": "08a0b9ed-7875-43a2-ca9d-0aa4db053d63"
      },
      "outputs": [],
      "source": [
        "df_wait_2021_provincial.columns"
      ]
    },
    {
      "cell_type": "code",
      "execution_count": null,
      "metadata": {
        "colab": {
          "base_uri": "https://localhost:8080/",
          "height": 206
        },
        "id": "95KVvfYbENFI",
        "outputId": "a8a26802-3852-4bc9-de90-bab14310c8a0"
      },
      "outputs": [],
      "source": [
        "df_wait_2021_p = df_wait_2021_provincial[df_wait_2021_provincial['Reporting level'] == 'Provincial']\n",
        "df_pivoted_p = df_wait_2021_p.pivot(index=['Reporting level','Province/territory','Indicator'], columns='Metric_Unit', values='Result')\\\n",
        "            .reset_index()\n",
        "df_pivoted_p.columns = df_pivoted_p.columns.str.replace('Volume/Number of cases','Number of cases')\n",
        "df_pivoted_p.head()"
      ]
    },
    {
      "cell_type": "code",
      "execution_count": null,
      "metadata": {
        "colab": {
          "base_uri": "https://localhost:8080/",
          "height": 557
        },
        "id": "C_yR9tgME-lb",
        "outputId": "8e22dd28-fd1e-4369-d2c1-5483847a97bd"
      },
      "outputs": [],
      "source": [
        "df_wait_2021_regional = df_wait_2021_provincial[df_wait_2021_provincial['Reporting level'] == 'Regional']\n",
        "print(df_wait_2021_regional.head())\n",
        "df_pivoted_r = df_wait_2021_regional.pivot(index=['Reporting level','Province/territory','Region','Indicator'], columns='Metric_Unit', values='Result')\\\n",
        "            .reset_index()\n",
        "df_pivoted_r.columns = df_pivoted_r.columns.str.replace('Volume/Number of cases','Number of cases')\n",
        "df_pivoted_r.head()"
      ]
    },
    {
      "cell_type": "code",
      "execution_count": null,
      "metadata": {
        "colab": {
          "base_uri": "https://localhost:8080/",
          "height": 487
        },
        "id": "30a0YpM3w-Sn",
        "outputId": "03cde041-3472-473f-92e1-ec323e56708e"
      },
      "outputs": [],
      "source": [
        "df_wait_2021_national = df_wait_2021_provincial[df_wait_2021_provincial['Reporting level'] == 'National']\n",
        "print(df_wait_2021_national.head())\n",
        "df_pivoted_n = df_wait_2021_national.pivot(index=['Reporting level','Province/territory','Region','Indicator'], columns='Metric_Unit', values='Result')\\\n",
        "            .reset_index()\n",
        "df_pivoted_n.columns = df_pivoted_n.columns.str.replace('Volume/Number of cases','Number of cases')\n",
        "df_pivoted_n.head()"
      ]
    },
    {
      "cell_type": "code",
      "execution_count": null,
      "metadata": {
        "colab": {
          "base_uri": "https://localhost:8080/"
        },
        "id": "e82UeaX7Jngn",
        "outputId": "a4dd3528-1239-44c9-df30-c53e768080a9"
      },
      "outputs": [],
      "source": [
        "! pip install XlsxWriter"
      ]
    },
    {
      "cell_type": "code",
      "execution_count": null,
      "metadata": {
        "id": "Zw5U89VBInA1"
      },
      "outputs": [],
      "source": [
        "#Stroing the dataframe into Excel\n",
        "output_file = (\"wait_time_cleaned.xlsx\")\n",
        "writer = pd.ExcelWriter(output_file,engine = 'xlsxwriter')\n",
        "df_pivoted_n.to_excel(writer,sheet_name = 'National')\n",
        "df_pivoted_r.to_excel(writer,sheet_name = 'Regional')\n",
        "df_pivoted_p.to_excel(writer,sheet_name = 'Provincial')\n",
        "writer.save()"
      ]
    },
    {
      "cell_type": "code",
      "execution_count": null,
      "metadata": {},
      "outputs": [],
      "source": []
    }
  ],
  "metadata": {
    "colab": {
      "provenance": []
    },
    "kernelspec": {
      "display_name": "Python 3.10.5 64-bit",
      "language": "python",
      "name": "python3"
    },
    "language_info": {
      "codemirror_mode": {
        "name": "ipython",
        "version": 3
      },
      "file_extension": ".py",
      "mimetype": "text/x-python",
      "name": "python",
      "nbconvert_exporter": "python",
      "pygments_lexer": "ipython3",
      "version": "3.10.5"
    },
    "vscode": {
      "interpreter": {
        "hash": "aee8b7b246df8f9039afb4144a1f6fd8d2ca17a180786b69acc140d282b71a49"
      }
    }
  },
  "nbformat": 4,
  "nbformat_minor": 0
}
