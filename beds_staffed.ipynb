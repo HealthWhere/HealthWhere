{
 "cells": [
  {
   "cell_type": "code",
   "execution_count": 11,
   "metadata": {},
   "outputs": [],
   "source": [
    "import pandas as pd\n",
    "\n",
    "def bed_data_cleaned(df, groupby_cols):\n",
    "    df.drop([\"Hospital name\", \"Type of hospital*\", \"Teaching status\"], axis=1, inplace=True)\n",
    "    df = df.fillna(0)\n",
    "    df = df.replace('—', 0)\n",
    "    df_ph = df.groupby(groupby_cols).sum()\n",
    "    df_ph = df_ph.reset_index().ffill()\n",
    "    return df_ph"
   ]
  },
  {
   "cell_type": "code",
   "execution_count": 12,
   "metadata": {},
   "outputs": [],
   "source": [
    "import os\n",
    "\n",
    "input_file = os.path.join(\"datasets\", \"input\", \"beds-staffed-and-in-operation-2018-2020-en (1).xlsx\")\n",
    "output_file = os.path.join(\"datasets\", \"output\", \"beds_3years.xlsx\")\n",
    "\n",
    "df = pd.read_excel(open(input_file, 'rb'),sheet_name='Copy of BSIO 2018–2019', header=2)\n",
    "df_out = bed_data_cleaned(df, [\"Province\", \"Health region\"])\n",
    "df_out.rename({\"Province\": \"Province/territory\"})\n",
    "writer = pd.ExcelWriter(output_file,  engine = 'xlsxwriter')\n",
    "df_out.to_excel(writer,sheet_name='BSIO 2018–2019') "
   ]
  },
  {
   "cell_type": "code",
   "execution_count": 13,
   "metadata": {},
   "outputs": [],
   "source": [
    "df_2 = pd.read_excel(open(input_file, 'rb'), sheet_name='BSIO 2019–2020', header=2)\n",
    "df_out = bed_data_cleaned(df_2, [\"Province\", \"Health region\"])\n",
    "df_out.rename({\"Province\": \"Province/territory\"})\n",
    "df_out.to_excel(writer,sheet_name='BSIO 2019–2020')"
   ]
  },
  {
   "cell_type": "code",
   "execution_count": 14,
   "metadata": {},
   "outputs": [],
   "source": [
    "input_file_2 = os.path.join(\"datasets\", \"input\", \"beds-staffed-and-in-operation-2020-2021-en.xlsx\")\n",
    "df_3 = pd.read_excel(open(input_file_2, 'rb'), sheet_name='Beds 2020–2021', header=2)\n",
    "df_out = bed_data_cleaned(df_3, [\"Province/territory\", \"Health region\"])\n",
    "\n",
    "df_out.to_excel(writer,sheet_name='BSIO 2020–21')"
   ]
  },
  {
   "cell_type": "code",
   "execution_count": 15,
   "metadata": {},
   "outputs": [],
   "source": [
    "writer.save()"
   ]
  },
  {
   "cell_type": "code",
   "execution_count": 16,
   "metadata": {},
   "outputs": [],
   "source": [
    "output_csv = os.path.join(\"datasets\", \"output\", \"beds_latest.csv\")\n",
    "df_out.to_csv(\"beds_latest.csv\", index = None, header=True)\n",
    "#df_ph.to_excel(\"beds.xlsx\",sheet_name='BSIO 2018–2019') "
   ]
  },
  {
   "cell_type": "code",
   "execution_count": null,
   "metadata": {},
   "outputs": [],
   "source": []
  }
 ],
 "metadata": {
  "interpreter": {
   "hash": "8a66326af7bf2ee05e55e35b6fe9d30857c1e2b8993252a51382bb15a4c0fc16"
  },
  "kernelspec": {
   "display_name": "Python 3.9.7 ('base')",
   "language": "python",
   "name": "python3"
  },
  "language_info": {
   "codemirror_mode": {
    "name": "ipython",
    "version": 3
   },
   "file_extension": ".py",
   "mimetype": "text/x-python",
   "name": "python",
   "nbconvert_exporter": "python",
   "pygments_lexer": "ipython3",
   "version": "3.9.7"
  },
  "orig_nbformat": 4
 },
 "nbformat": 4,
 "nbformat_minor": 2
}
